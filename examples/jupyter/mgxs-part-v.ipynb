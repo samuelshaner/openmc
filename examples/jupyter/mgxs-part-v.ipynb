{
 "cells": [
  {
   "cell_type": "markdown",
   "metadata": {},
   "source": [
    "This IPython Notebook illustrates how to use the MGXS module to formulate an equivalent coarse-mesh finite difference (CMFD) diffusion representation of a problem. The CMFD representation of the a problem can serve many purposes. During the Monte Carlo solve, it can help accelerate the source convergence [cite Herman]. The CMFD diffusion operator can also be used as a low-order operator to solve a transient problem with an Indirect Monte Carlo method [cite my thesis]. In particular, this Notebook illustrates the following features:\n",
    "\n",
    "* Calculation of all multi-group cross sections for a **fuel assembly** required to form the CMFD diffusion operator\n",
    "* Automated creation, manipulation and storage of `MGXS` with **`openmc.mgxs.Library`**\n",
    "* **Validation** of CMFD representation by comparing the MC pin powers with pin powers computed from solving the eigenvalue problem with the CMFD diffusion representation."
   ]
  },
  {
   "cell_type": "markdown",
   "metadata": {},
   "source": [
    "## Generate Input Files"
   ]
  },
  {
   "cell_type": "code",
   "execution_count": 1,
   "metadata": {},
   "outputs": [
    {
     "name": "stderr",
     "output_type": "stream",
     "text": [
      "/Users/samuelshaner/anaconda/lib/python3.6/site-packages/matplotlib/__init__.py:1405: UserWarning: \n",
      "This call to matplotlib.use() has no effect because the backend has already\n",
      "been chosen; matplotlib.use() must be called *before* pylab, matplotlib.pyplot,\n",
      "or matplotlib.backends is imported for the first time.\n",
      "\n",
      "  warnings.warn(_use_error_msg)\n"
     ]
    }
   ],
   "source": [
    "import math\n",
    "import pickle\n",
    "\n",
    "from IPython.display import Image\n",
    "import matplotlib.pyplot as plt\n",
    "import numpy as np\n",
    "\n",
    "import openmc\n",
    "import openmc.mgxs\n",
    "from openmc.openmoc_compatible import get_openmoc_geometry\n",
    "from scipy.sparse.linalg import spsolve\n",
    "\n",
    "%matplotlib inline"
   ]
  },
  {
   "cell_type": "markdown",
   "metadata": {},
   "source": [
    "First we need to define materials that will be used in the problem. Before defining a material, we must create nuclides that are used in the material."
   ]
  },
  {
   "cell_type": "code",
   "execution_count": 2,
   "metadata": {},
   "outputs": [],
   "source": [
    "# Instantiate some Nuclides\n",
    "h1 = openmc.Nuclide('H1')\n",
    "b10 = openmc.Nuclide('B10')\n",
    "o16 = openmc.Nuclide('O16')\n",
    "u235 = openmc.Nuclide('U235')\n",
    "u238 = openmc.Nuclide('U238')\n",
    "zr90 = openmc.Nuclide('Zr90')"
   ]
  },
  {
   "cell_type": "markdown",
   "metadata": {},
   "source": [
    "With the nuclides we defined, we will now create three materials for the fuel, water, and cladding of the fuel pins."
   ]
  },
  {
   "cell_type": "code",
   "execution_count": 3,
   "metadata": {
    "collapsed": true
   },
   "outputs": [],
   "source": [
    "# 1.6 enriched fuel\n",
    "fuel = openmc.Material(name='1.6% Fuel')\n",
    "fuel.set_density('g/cm3', 10.31341)\n",
    "fuel.add_nuclide(u235, 3.7503e-4)\n",
    "fuel.add_nuclide(u238, 2.2625e-2)\n",
    "fuel.add_nuclide(o16, 4.6007e-2)\n",
    "\n",
    "# borated water\n",
    "water = openmc.Material(name='Borated Water')\n",
    "water.set_density('g/cm3', 0.740582)\n",
    "water.add_nuclide(h1, 4.9457e-2)\n",
    "water.add_nuclide(o16, 2.4732e-2)\n",
    "water.add_nuclide(b10, 8.0042e-6)\n",
    "\n",
    "# zircaloy\n",
    "zircaloy = openmc.Material(name='Zircaloy')\n",
    "zircaloy.set_density('g/cm3', 6.55)\n",
    "zircaloy.add_nuclide(zr90, 7.2758e-3)"
   ]
  },
  {
   "cell_type": "markdown",
   "metadata": {},
   "source": [
    "With our three materials, we can now create a `Materials` object that can be exported to an actual XML file."
   ]
  },
  {
   "cell_type": "code",
   "execution_count": 4,
   "metadata": {
    "collapsed": true
   },
   "outputs": [],
   "source": [
    "# Instantiate a Materials object\n",
    "materials_file = openmc.Materials((fuel, water, zircaloy))\n",
    "\n",
    "# Export to \"materials.xml\"\n",
    "materials_file.export_to_xml()"
   ]
  },
  {
   "cell_type": "markdown",
   "metadata": {},
   "source": [
    "Now let's move on to the geometry. This problem will be a square array of fuel pins and control rod guide tubes for which we can use OpenMC's lattice/universe feature. The basic universe will have three regions for the fuel, the clad, and the surrounding coolant. The first step is to create the bounding surfaces for fuel and clad, as well as the outer bounding surfaces of the problem."
   ]
  },
  {
   "cell_type": "code",
   "execution_count": 5,
   "metadata": {
    "collapsed": true
   },
   "outputs": [],
   "source": [
    "# Create cylinders for the fuel and clad\n",
    "fuel_outer_radius = openmc.ZCylinder(x0=0.0, y0=0.0, R=0.39218)\n",
    "clad_outer_radius = openmc.ZCylinder(x0=0.0, y0=0.0, R=0.45720)\n",
    "\n",
    "# Create boundary planes to surround the geometry\n",
    "min_x = openmc.XPlane(x0=-10.71, boundary_type='reflective')\n",
    "max_x = openmc.XPlane(x0=+10.71, boundary_type='reflective')\n",
    "min_y = openmc.YPlane(y0=-10.71, boundary_type='reflective')\n",
    "max_y = openmc.YPlane(y0=+10.71, boundary_type='reflective')\n",
    "min_z = openmc.ZPlane(z0=-10., boundary_type='reflective')\n",
    "max_z = openmc.ZPlane(z0=+10., boundary_type='reflective')"
   ]
  },
  {
   "cell_type": "markdown",
   "metadata": {},
   "source": [
    "With the surfaces defined, we can now construct a fuel pin cell from cells that are defined by intersections of half-spaces created by the surfaces."
   ]
  },
  {
   "cell_type": "code",
   "execution_count": 6,
   "metadata": {
    "collapsed": true
   },
   "outputs": [],
   "source": [
    "# Create a Universe to encapsulate a fuel pin\n",
    "fuel_pin_universe = openmc.Universe(name='1.6% Fuel Pin')\n",
    "\n",
    "# Create fuel Cell\n",
    "fuel_cell = openmc.Cell(name='1.6% Fuel')\n",
    "fuel_cell.fill = fuel\n",
    "fuel_cell.region = -fuel_outer_radius\n",
    "fuel_pin_universe.add_cell(fuel_cell)\n",
    "\n",
    "# Create a clad Cell\n",
    "clad_cell = openmc.Cell(name='1.6% Clad')\n",
    "clad_cell.fill = zircaloy\n",
    "clad_cell.region = +fuel_outer_radius & -clad_outer_radius\n",
    "fuel_pin_universe.add_cell(clad_cell)\n",
    "\n",
    "# Create a moderator Cell\n",
    "moderator_cell = openmc.Cell(name='1.6% Moderator')\n",
    "moderator_cell.fill = water\n",
    "moderator_cell.region = +clad_outer_radius\n",
    "fuel_pin_universe.add_cell(moderator_cell)"
   ]
  },
  {
   "cell_type": "markdown",
   "metadata": {},
   "source": [
    "Likewise, we can construct a control rod guide tube with the same surfaces."
   ]
  },
  {
   "cell_type": "code",
   "execution_count": 7,
   "metadata": {
    "collapsed": true
   },
   "outputs": [],
   "source": [
    "# Create a Universe to encapsulate a control rod guide tube\n",
    "guide_tube_universe = openmc.Universe(name='Guide Tube')\n",
    "\n",
    "# Create guide tube Cell\n",
    "guide_tube_cell = openmc.Cell(name='Guide Tube Water')\n",
    "guide_tube_cell.fill = water\n",
    "guide_tube_cell.region = -fuel_outer_radius\n",
    "guide_tube_universe.add_cell(guide_tube_cell)\n",
    "\n",
    "# Create a clad Cell\n",
    "clad_cell = openmc.Cell(name='Guide Clad')\n",
    "clad_cell.fill = zircaloy\n",
    "clad_cell.region = +fuel_outer_radius & -clad_outer_radius\n",
    "guide_tube_universe.add_cell(clad_cell)\n",
    "\n",
    "# Create a moderator Cell\n",
    "moderator_cell = openmc.Cell(name='Guide Tube Moderator')\n",
    "moderator_cell.fill = water\n",
    "moderator_cell.region = +clad_outer_radius\n",
    "guide_tube_universe.add_cell(moderator_cell)"
   ]
  },
  {
   "cell_type": "markdown",
   "metadata": {},
   "source": [
    "Using the pin cell universe, we can construct a 17x17 rectangular lattice with a 1.26 cm pitch."
   ]
  },
  {
   "cell_type": "code",
   "execution_count": 8,
   "metadata": {
    "collapsed": true
   },
   "outputs": [],
   "source": [
    "# Create fuel assembly Lattice\n",
    "assembly = openmc.RectLattice(name='1.6% Fuel Assembly')\n",
    "assembly.pitch = (1.26, 1.26)\n",
    "assembly.lower_left = [-1.26 * 17. / 2.0] * 2"
   ]
  },
  {
   "cell_type": "markdown",
   "metadata": {},
   "source": [
    "Next, we create a NumPy array of fuel pin and guide tube universes for the lattice."
   ]
  },
  {
   "cell_type": "code",
   "execution_count": 9,
   "metadata": {
    "collapsed": true
   },
   "outputs": [],
   "source": [
    "# Create array indices for guide tube locations in lattice\n",
    "template_x = np.array([5, 8, 11, 3, 13, 2, 5, 8, 11, 14, 2, 5, 8,\n",
    "                       11, 14, 2, 5, 8, 11, 14, 3, 13, 5, 8, 11])\n",
    "template_y = np.array([2, 2, 2, 3, 3, 5, 5, 5, 5, 5, 8, 8, 8, 8,\n",
    "                       8, 11, 11, 11, 11, 11, 13, 13, 14, 14, 14])\n",
    "\n",
    "# Initialize an empty 17x17 array of the lattice universes\n",
    "universes = np.empty((17, 17), dtype=openmc.Universe)\n",
    "\n",
    "# Fill the array with the fuel pin and guide tube universes\n",
    "universes[:,:] = fuel_pin_universe\n",
    "universes[template_x, template_y] = guide_tube_universe\n",
    "\n",
    "# Store the array of universes in the lattice\n",
    "assembly.universes = universes"
   ]
  },
  {
   "cell_type": "markdown",
   "metadata": {},
   "source": [
    "OpenMC requires that there is a \"root\" universe. Let us create a root cell that is filled by the assembly and then assign it to the root universe."
   ]
  },
  {
   "cell_type": "code",
   "execution_count": 10,
   "metadata": {
    "collapsed": true
   },
   "outputs": [],
   "source": [
    "# Create root Cell\n",
    "root_cell = openmc.Cell(name='root cell')\n",
    "root_cell.fill = assembly\n",
    "\n",
    "# Add boundary planes\n",
    "root_cell.region = +min_x & -max_x & +min_y & -max_y & +min_z & -max_z\n",
    "\n",
    "# Create root Universe\n",
    "root_universe = openmc.Universe(universe_id=0, name='root universe')\n",
    "root_universe.add_cell(root_cell)"
   ]
  },
  {
   "cell_type": "markdown",
   "metadata": {},
   "source": [
    "We now must create a geometry that is assigned a root universe and export it to XML."
   ]
  },
  {
   "cell_type": "code",
   "execution_count": 11,
   "metadata": {
    "collapsed": true
   },
   "outputs": [],
   "source": [
    "# Create Geometry and set root Universe\n",
    "geometry = openmc.Geometry()\n",
    "geometry.root_universe = root_universe"
   ]
  },
  {
   "cell_type": "code",
   "execution_count": 12,
   "metadata": {
    "collapsed": true
   },
   "outputs": [],
   "source": [
    "# Export to \"geometry.xml\"\n",
    "geometry.export_to_xml()"
   ]
  },
  {
   "cell_type": "markdown",
   "metadata": {},
   "source": [
    "With the geometry and materials finished, we now just need to define simulation parameters. In this case, we will use 10 inactive batches and 40 active batches each with 2500 particles."
   ]
  },
  {
   "cell_type": "code",
   "execution_count": 13,
   "metadata": {},
   "outputs": [],
   "source": [
    "# OpenMC simulation parameters\n",
    "batches = 50\n",
    "inactive = 10\n",
    "particles = 2500\n",
    "\n",
    "# Instantiate a Settings object\n",
    "settings_file = openmc.Settings()\n",
    "settings_file.batches = batches\n",
    "settings_file.inactive = inactive\n",
    "settings_file.particles = particles\n",
    "settings_file.output = {'tallies': False}\n",
    "\n",
    "# Create an initial uniform spatial source distribution over fissionable zones\n",
    "bounds = [-10.71, -10.71, -10, 10.71, 10.71, 10.]\n",
    "uniform_dist = openmc.stats.Box(bounds[:3], bounds[3:], only_fissionable=True)\n",
    "settings_file.source = openmc.source.Source(space=uniform_dist)\n",
    "\n",
    "# Export to \"settings.xml\"\n",
    "settings_file.export_to_xml()"
   ]
  },
  {
   "cell_type": "markdown",
   "metadata": {},
   "source": [
    "Let us also create a `Plots` file that we can use to verify that our fuel assembly geometry was created successfully."
   ]
  },
  {
   "cell_type": "code",
   "execution_count": 14,
   "metadata": {
    "collapsed": true
   },
   "outputs": [],
   "source": [
    "# Instantiate a Plot\n",
    "plot = openmc.Plot(plot_id=1)\n",
    "plot.filename = 'materials-xy'\n",
    "plot.origin = [0, 0, 0]\n",
    "plot.pixels = [250, 250]\n",
    "plot.width = [-10.71*2, -10.71*2]\n",
    "plot.color_by = 'material'\n",
    "\n",
    "# Instantiate a Plots object, add Plot, and export to \"plots.xml\"\n",
    "plot_file = openmc.Plots([plot])\n",
    "plot_file.export_to_xml()"
   ]
  },
  {
   "cell_type": "markdown",
   "metadata": {},
   "source": [
    "With the plots.xml file, we can now generate and view the plot. OpenMC outputs plots in .ppm format, which can be converted into a compressed format like .png with the convert utility."
   ]
  },
  {
   "cell_type": "code",
   "execution_count": 15,
   "metadata": {},
   "outputs": [
    {
     "data": {
      "text/plain": [
       "0"
      ]
     },
     "execution_count": 15,
     "metadata": {},
     "output_type": "execute_result"
    }
   ],
   "source": [
    "# Run openmc in plotting mode\n",
    "openmc.plot_geometry(output=False)"
   ]
  },
  {
   "cell_type": "code",
   "execution_count": 16,
   "metadata": {},
   "outputs": [
    {
     "data": {
      "image/png": "[encoded data removed]",
      "text/plain": [
       "<IPython.core.display.Image object>"
      ]
     },
     "execution_count": 16,
     "metadata": {},
     "output_type": "execute_result"
    }
   ],
   "source": [
    "# Convert OpenMC's funky ppm to png\n",
    "!convert materials-xy.ppm materials-xy.png\n",
    "\n",
    "# Display the materials plot inline\n",
    "Image(filename='materials-xy.png')"
   ]
  },
  {
   "cell_type": "markdown",
   "metadata": {},
   "source": [
    "As we can see from the plot, we have a nice array of fuel and guide tube pin cells with fuel, cladding, and water!"
   ]
  },
  {
   "cell_type": "markdown",
   "metadata": {},
   "source": [
    "## Create an MGXS Library"
   ]
  },
  {
   "cell_type": "markdown",
   "metadata": {},
   "source": [
    "Now we are ready to generate multi-group cross sections! First, let's define a 2-group structure using the built-in `EnergyGroups` class."
   ]
  },
  {
   "cell_type": "code",
   "execution_count": 17,
   "metadata": {},
   "outputs": [],
   "source": [
    "# Instantiate a 2-group EnergyGroups object\n",
    "groups = openmc.mgxs.EnergyGroups()\n",
    "groups.group_edges = np.array([0., 4.0, 20.0e6])"
   ]
  },
  {
   "cell_type": "markdown",
   "metadata": {},
   "source": [
    "Next, we will instantiate an `openmc.mgxs.Library` for the energy groups with the fuel assembly geometry."
   ]
  },
  {
   "cell_type": "code",
   "execution_count": 18,
   "metadata": {},
   "outputs": [],
   "source": [
    "# Initialize a 2-group MGXS Library for OpenMOC\n",
    "mgxs_lib = openmc.mgxs.Library(geometry)\n",
    "mgxs_lib.energy_groups = groups"
   ]
  },
  {
   "cell_type": "markdown",
   "metadata": {},
   "source": [
    "Now, we must specify to the `Library` which types of cross sections to compute. In particular, the following are the multi-group cross section `MGXS` subclasses that are mapped to string codes accepted by the `Library` class:\n",
    "\n",
    "* `TotalXS` (`\"total\"`)\n",
    "* `DiffusionCoefficient` (`\"diffusion-coefficient\"`)\n",
    "* `TransportXS` (`\"transport\"` or `\"nu-transport` with `nu` set to `True`)\n",
    "* `AbsorptionXS` (`\"absorption\"`)\n",
    "* `CaptureXS` (`\"capture\"`)\n",
    "* `FissionXS` (`\"fission\"` or `\"nu-fission\"` with `nu` set to `True`)\n",
    "* `KappaFissionXS` (`\"kappa-fission\"`)\n",
    "* `ScatterXS` (`\"scatter\"` or `\"nu-scatter\"` with `nu` set to `True`)\n",
    "* `ScatterMatrixXS` (`\"scatter matrix\"` or `\"nu-scatter matrix\"` with `nu` set to `True`)\n",
    "* `Chi` (`\"chi\"`)\n",
    "* `ChiPrompt` (`\"chi prompt\"`)\n",
    "* `InverseVelocity` (`\"inverse-velocity\"`)\n",
    "* `CMFDCoupling` (`\"cmfd-coupling\"` or `\"nu-cmfd-coupling\"` or `\"cmfd-coupling-correction\"` or `\"nu-cmfd-coupling-correction\"`)\n",
    "* `PromptNuFissionXS` (`\"prompt-nu-fission\"`)\n",
    "* `DelayedNuFissionXS` (`\"delayed-nu-fission\"`)\n",
    "* `ChiDelayed` (`\"chi-delayed\"`)\n",
    "* `Beta` (`\"beta\"`)\n",
    "\n",
    "In this case, we will create the multi-group cross sections needed to create a CMFD diffusion representation of the problem. In particular, we will define `\"cmfd-coupling\"`, `\"cmfd-coupling-correction\"`, `\"nu-fission\"`, `'\"scatter-matrix\"`, `\"scatter\"` `\"absorption\"`, and `\"chi\"` cross sections for our `Library`. We will also create a `\"kappa-fission\"` multi-group cross section to use in computing the pin powers from the CMFD diffusion problem.\n",
    "\n",
    "**Note**: A variety of different approximate transport-corrected total multi-group cross sections (and corresponding scattering matrices) can be found in the literature. At the present time, the `openmc.mgxs` module only supports the `\"P0\"` transport correction. This correction can be turned on and off through the boolean `Library.correction` property which may take values of `\"P0\"` (default) or `None`."
   ]
  },
  {
   "cell_type": "code",
   "execution_count": 19,
   "metadata": {},
   "outputs": [],
   "source": [
    "# Specify multi-group cross section types to compute\n",
    "mgxs_lib.mgxs_types = ['cmfd-coupling', 'cmfd-coupling-correction', 'nu-fission', 'scatter matrix', 'scatter', 'absorption', 'chi', 'kappa-fission']"
   ]
  },
  {
   "cell_type": "markdown",
   "metadata": {},
   "source": [
    "Now we must specify the type of domain over which we would like the `Library` to compute multi-group cross sections. The domain type corresponds to the type of tally filter to be used in the tallies created to compute multi-group cross sections. At the present time, the `Library` supports `\"material\"`, `\"cell\"`, `\"universe\"`, and `\"mesh\"` domain types. We will use a `\"mesh\"` domain type here to compute cross sections in each of the mesh cells in the fuel assembly geometry since the CMFD diffusion problem is only currently set up on a cartesian mesh."
   ]
  },
  {
   "cell_type": "code",
   "execution_count": 41,
   "metadata": {},
   "outputs": [
    {
     "name": "stderr",
     "output_type": "stream",
     "text": [
      "/Users/samuelshaner/repos/openmc-sam/openmc/mixin.py:61: IDWarning: Another Mesh instance already exists with id=1.\n",
      "  warn(msg, IDWarning)\n"
     ]
    }
   ],
   "source": [
    "# Specify a \"cell\" domain type for the cross section tally filters\n",
    "mgxs_lib.domain_type = 'mesh'\n",
    "\n",
    "mgxs_mesh = openmc.Mesh(mesh_id=1)\n",
    "mgxs_mesh.type = 'regular'\n",
    "mgxs_mesh.dimension = [17,17]\n",
    "mgxs_mesh.lower_left  = [-10.71, -10.71]\n",
    "mgxs_mesh.upper_right = [ 10.71,  10.71]\n",
    "\n",
    "# Specify the mesh domain over which to compute multi-group cross sections\n",
    "mgxs_lib.domains = [mgxs_mesh]"
   ]
  },
  {
   "cell_type": "markdown",
   "metadata": {},
   "source": [
    "Lastly, we use the `Library` to construct the tallies needed to compute all of the requested multi-group cross sections in each mesh cell. Note that the correction for the `\"scatter matrix\"` is turned off. The correction is turned off by default for the `\"scatter\"` MGXS (which is used to represent outscatter) so we must also turn off the correction for the `\"scatter matrix\"` MGXS (which is used to represent inscatter)."
   ]
  },
  {
   "cell_type": "code",
   "execution_count": 21,
   "metadata": {},
   "outputs": [],
   "source": [
    "# Construct all tallies needed for the multi-group cross section library\n",
    "mgxs_lib.build_library()\n",
    "mgxs_lib.get_mgxs(mgxs_mesh, 'scatter matrix').correction = None"
   ]
  },
  {
   "cell_type": "markdown",
   "metadata": {},
   "source": [
    "The tallies can now be export to a \"tallies.xml\" input file for OpenMC. "
   ]
  },
  {
   "cell_type": "code",
   "execution_count": 22,
   "metadata": {
    "collapsed": true
   },
   "outputs": [],
   "source": [
    "# Create a \"tallies.xml\" file for the MGXS Library\n",
    "tallies_file = openmc.Tallies()\n",
    "mgxs_lib.add_to_tallies_file(tallies_file, merge=True)"
   ]
  },
  {
   "cell_type": "markdown",
   "metadata": {},
   "source": [
    "In addition, we instantiate a kappa-fission mesh tally to compare with CMFD."
   ]
  },
  {
   "cell_type": "code",
   "execution_count": 23,
   "metadata": {},
   "outputs": [],
   "source": [
    "# Instantiate a tally Mesh\n",
    "mesh = openmc.Mesh(mesh_id=2)\n",
    "mesh.type = 'regular'\n",
    "mesh.dimension = [17, 17]\n",
    "mesh.lower_left = [-10.71, -10.71]\n",
    "mesh.upper_right = [+10.71, +10.71]\n",
    "\n",
    "# Instantiate tally Filter\n",
    "mesh_filter = openmc.MeshFilter(mesh)\n",
    "\n",
    "# Instantiate the Tally\n",
    "tally = openmc.Tally(name='mesh tally')\n",
    "tally.filters = [mesh_filter]\n",
    "tally.scores = ['kappa-fission']\n",
    "\n",
    "# Add tally to collection\n",
    "tallies_file.append(tally)"
   ]
  },
  {
   "cell_type": "code",
   "execution_count": 24,
   "metadata": {},
   "outputs": [
    {
     "name": "stderr",
     "output_type": "stream",
     "text": [
      "/Users/samuelshaner/repos/openmc-sam/openmc/mixin.py:61: IDWarning: Another MeshFilter instance already exists with id=1.\n",
      "  warn(msg, IDWarning)\n",
      "/Users/samuelshaner/repos/openmc-sam/openmc/mixin.py:61: IDWarning: Another EnergyFilter instance already exists with id=2.\n",
      "  warn(msg, IDWarning)\n",
      "/Users/samuelshaner/repos/openmc-sam/openmc/mixin.py:61: IDWarning: Another EnergyoutFilter instance already exists with id=4.\n",
      "  warn(msg, IDWarning)\n"
     ]
    }
   ],
   "source": [
    "# Export all tallies to a \"tallies.xml\" file\n",
    "tallies_file.export_to_xml()"
   ]
  },
  {
   "cell_type": "code",
   "execution_count": 25,
   "metadata": {},
   "outputs": [
    {
     "name": "stdout",
     "output_type": "stream",
     "text": [
      "\n",
      "                               %%%%%%%%%%%%%%%\n",
      "                          %%%%%%%%%%%%%%%%%%%%%%%%\n",
      "                       %%%%%%%%%%%%%%%%%%%%%%%%%%%%%%\n",
      "                     %%%%%%%%%%%%%%%%%%%%%%%%%%%%%%%%%%\n",
      "                   %%%%%%%%%%%%%%%%%%%%%%%%%%%%%%%%%%%%%%\n",
      "                  %%%%%%%%%%%%%%%%%%%%%%%%%%%%%%%%%%%%%%%%\n",
      "                                   %%%%%%%%%%%%%%%%%%%%%%%%\n",
      "                                    %%%%%%%%%%%%%%%%%%%%%%%%\n",
      "                ###############      %%%%%%%%%%%%%%%%%%%%%%%%\n",
      "               ##################     %%%%%%%%%%%%%%%%%%%%%%%\n",
      "               ###################     %%%%%%%%%%%%%%%%%%%%%%%\n",
      "               ####################     %%%%%%%%%%%%%%%%%%%%%%\n",
      "               #####################     %%%%%%%%%%%%%%%%%%%%%\n",
      "               ######################     %%%%%%%%%%%%%%%%%%%%\n",
      "               #######################     %%%%%%%%%%%%%%%%%%\n",
      "                #######################     %%%%%%%%%%%%%%%%%\n",
      "                ######################     %%%%%%%%%%%%%%%%%\n",
      "                 ####################     %%%%%%%%%%%%%%%%%\n",
      "                   #################     %%%%%%%%%%%%%%%%%\n",
      "                    ###############     %%%%%%%%%%%%%%%%\n",
      "                      ############     %%%%%%%%%%%%%%%\n",
      "                         ########     %%%%%%%%%%%%%%\n",
      "                                     %%%%%%%%%%%\n",
      "\n",
      "                   | The OpenMC Monte Carlo Code\n",
      "         Copyright | 2011-2017 Massachusetts Institute of Technology\n",
      "           License | http://openmc.readthedocs.io/en/latest/license.html\n",
      "           Version | 0.9.0\n",
      "          Git SHA1 | f616d47442bdc6816f527b959eef680391604dae\n",
      "         Date/Time | 2017-09-25 20:29:37\n",
      "    OpenMP Threads | 8\n",
      "\n",
      " Reading settings XML file...\n",
      " Reading geometry XML file...\n",
      " Reading materials XML file...\n",
      " Reading cross sections XML file...\n",
      " Reading U235 from\n",
      " /Users/samuelshaner/repos/yellowstonemc-sam/data/nndc_hdf5/U235.h5\n",
      " Reading U238 from\n",
      " /Users/samuelshaner/repos/yellowstonemc-sam/data/nndc_hdf5/U238.h5\n",
      " Reading O16 from\n",
      " /Users/samuelshaner/repos/yellowstonemc-sam/data/nndc_hdf5/O16.h5\n",
      " Reading H1 from /Users/samuelshaner/repos/yellowstonemc-sam/data/nndc_hdf5/H1.h5\n",
      " Reading B10 from\n",
      " /Users/samuelshaner/repos/yellowstonemc-sam/data/nndc_hdf5/B10.h5\n",
      " Reading Zr90 from\n",
      " /Users/samuelshaner/repos/yellowstonemc-sam/data/nndc_hdf5/Zr90.h5\n",
      " Maximum neutron transport energy: 2.00000E+07 eV for U235\n",
      " Reading tallies XML file...\n",
      " Building neighboring cells lists for each surface...\n",
      " Initializing source particles...\n",
      "\n",
      " ====================>     K EIGENVALUE SIMULATION     <====================\n",
      "\n",
      "  Bat./Gen.      k            Average k         \n",
      "  =========   ========   ====================   \n",
      "        1/1    1.03784                       \n",
      "        2/1    1.02297                       \n",
      "        3/1    1.02244                       \n",
      "        4/1    1.02344                       \n",
      "        5/1    1.02057                       \n",
      "        6/1    1.04077                       \n",
      "        7/1    1.00795                       \n",
      "        8/1    1.02418                       \n",
      "        9/1    1.02241                       \n",
      "       10/1    1.03731                       \n",
      "       11/1    1.01477                       \n",
      "       12/1    1.05315                       \n",
      "       13/1    1.02953                       \n",
      "       14/1    1.02120                       \n",
      "       15/1    1.01548                       \n",
      "       16/1    1.01268                       \n",
      "       17/1    0.99787                       \n",
      "       18/1    1.02600                       \n",
      "       19/1    1.04370                       \n",
      "       20/1    1.02827                       \n",
      "       21/1    0.99821                       \n",
      "       22/1    1.03451                       \n",
      "       23/1    1.03986                       \n",
      "       24/1    1.01929                       \n",
      "       25/1    1.02924                       \n",
      "       26/1    1.03024                       \n",
      "       27/1    1.02248                       \n",
      "       28/1    1.03677                       \n",
      "       29/1    1.03359                       \n",
      "       30/1    1.01989                       \n",
      "       31/1    1.02084                       \n",
      "       32/1    1.02901                       \n",
      "       33/1    1.03513                       \n",
      "       34/1    1.04112                       \n",
      "       35/1    1.02004                       \n",
      "       36/1    1.02672                       \n",
      "       37/1    1.02348                       \n",
      "       38/1    1.03316                       \n",
      "       39/1    1.03167                       \n",
      "       40/1    1.02515                       \n",
      "       41/1    1.01490                       \n",
      "       42/1    1.02364                       \n",
      "       43/1    1.02244                       \n",
      "       44/1    1.03238                       \n",
      "       45/1    1.03177                       \n",
      "       46/1    1.02276                       \n",
      "       47/1    1.03142                       \n",
      "       48/1    1.01840                       \n",
      "       49/1    1.03335                       \n",
      "       50/1    1.01839                       \n",
      "       51/1    1.02854                       \n",
      "       52/1    1.04835    1.03844 +/- 0.00990\n",
      "       53/1    0.99830    1.02506 +/- 0.01455\n",
      "       54/1    1.01804    1.02330 +/- 0.01044\n",
      "       55/1    1.03272    1.02519 +/- 0.00830\n",
      "       56/1    1.01048    1.02274 +/- 0.00721\n",
      "       57/1    1.02919    1.02366 +/- 0.00616\n",
      "       58/1    1.05005    1.02696 +/- 0.00627\n",
      "       59/1    1.00694    1.02473 +/- 0.00596\n",
      "       60/1    1.00288    1.02255 +/- 0.00576\n",
      "       61/1    1.01655    1.02200 +/- 0.00524\n",
      "       62/1    1.06797    1.02583 +/- 0.00613\n",
      "       63/1    1.03303    1.02639 +/- 0.00567\n",
      "       64/1    0.99790    1.02435 +/- 0.00563\n",
      "       65/1    1.03288    1.02492 +/- 0.00527\n",
      "       66/1    1.03541    1.02558 +/- 0.00497\n",
      "       67/1    1.05592    1.02736 +/- 0.00500\n",
      "       68/1    1.01525    1.02669 +/- 0.00476\n",
      "       69/1    1.03405    1.02708 +/- 0.00452\n",
      "       70/1    1.03097    1.02727 +/- 0.00429\n",
      "       71/1    1.01907    1.02688 +/- 0.00410\n",
      "       72/1    1.04044    1.02750 +/- 0.00396\n",
      "       73/1    1.01802    1.02708 +/- 0.00381\n",
      "       74/1    1.02320    1.02692 +/- 0.00365\n",
      "       75/1    1.01361    1.02639 +/- 0.00354\n",
      "       76/1    1.03712    1.02680 +/- 0.00342\n",
      "       77/1    1.02257    1.02665 +/- 0.00330\n",
      "       78/1    1.03967    1.02711 +/- 0.00321\n",
      "       79/1    1.02969    1.02720 +/- 0.00310\n",
      "       80/1    0.99600    1.02616 +/- 0.00317\n",
      "       81/1    1.03075    1.02631 +/- 0.00307\n",
      "       82/1    1.01629    1.02599 +/- 0.00299\n",
      "       83/1    1.02253    1.02589 +/- 0.00290\n",
      "       84/1    1.05058    1.02662 +/- 0.00291\n",
      "       85/1    1.00995    1.02614 +/- 0.00286\n",
      "       86/1    1.01931    1.02595 +/- 0.00279\n",
      "       87/1    1.01097    1.02555 +/- 0.00274\n",
      "       88/1    1.00087    1.02490 +/- 0.00275\n",
      "       89/1    1.01484    1.02464 +/- 0.00269\n",
      "       90/1    1.01415    1.02438 +/- 0.00263\n",
      "       91/1    1.00811    1.02398 +/- 0.00260\n",
      "       92/1    1.02367    1.02397 +/- 0.00253\n",
      "       93/1    1.01906    1.02386 +/- 0.00248\n",
      "       94/1    1.04242    1.02428 +/- 0.00246\n",
      "       95/1    1.02955    1.02440 +/- 0.00240\n",
      "       96/1    1.01898    1.02428 +/- 0.00235\n",
      "       97/1    1.03745    1.02456 +/- 0.00232\n",
      "       98/1    1.02378    1.02454 +/- 0.00227\n",
      "       99/1    1.02384    1.02453 +/- 0.00223\n",
      "      100/1    1.02853    1.02461 +/- 0.00218\n",
      " Creating state point statepoint.100.h5...\n",
      "\n",
      " =======================>     TIMING STATISTICS     <=======================\n",
      "\n",
      " Total time for initialization     =  2.8510E-01 seconds\n",
      "   Reading cross sections          =  2.4593E-01 seconds\n",
      " Total time in simulation          =  1.4255E+02 seconds\n",
      "   Time in transport only          =  1.4238E+02 seconds\n",
      "   Time in inactive batches        =  3.4148E+01 seconds\n",
      "   Time in active batches          =  1.0841E+02 seconds\n",
      "   Time synchronizing fission bank =  6.9351E-02 seconds\n",
      "     Sampling source sites         =  5.7405E-02 seconds\n",
      "     SEND/RECV source sites        =  1.1580E-02 seconds\n",
      "   Time accumulating tallies       =  3.4844E-02 seconds\n",
      " Total time for finalization       =  0.0000E+00 seconds\n",
      " Total time elapsed                =  1.4292E+02 seconds\n",
      " Calculation Rate (inactive)       =  14642.3 neutrons/second\n",
      " Calculation Rate (active)         =  4612.28 neutrons/second\n",
      "\n",
      " ============================>     RESULTS     <============================\n",
      "\n",
      " k-effective (Collision)     =  1.02317 +/-  0.00175\n",
      " k-effective (Track-length)  =  1.02461 +/-  0.00218\n",
      " k-effective (Absorption)    =  1.02369 +/-  0.00146\n",
      " Combined k-effective        =  1.02372 +/-  0.00137\n",
      " Leakage Fraction            =  0.00000 +/-  0.00000\n",
      "\n"
     ]
    },
    {
     "data": {
      "text/plain": [
       "0"
      ]
     },
     "execution_count": 25,
     "metadata": {},
     "output_type": "execute_result"
    }
   ],
   "source": [
    "# Run OpenMC\n",
    "openmc.run()"
   ]
  },
  {
   "cell_type": "markdown",
   "metadata": {},
   "source": [
    "## Tally Data Processing"
   ]
  },
  {
   "cell_type": "markdown",
   "metadata": {},
   "source": [
    "Our simulation ran successfully and created statepoint and summary output files. We begin our analysis by instantiating a `StatePoint` object. "
   ]
  },
  {
   "cell_type": "code",
   "execution_count": 26,
   "metadata": {},
   "outputs": [],
   "source": [
    "# Load the last statepoint file\n",
    "sp = openmc.StatePoint('statepoint.50.h5')"
   ]
  },
  {
   "cell_type": "markdown",
   "metadata": {},
   "source": [
    "The statepoint is now ready to be analyzed by the `Library`. We simply have to load the tallies from the statepoint into the `Library` and our `MGXS` objects will compute the cross sections for us under-the-hood."
   ]
  },
  {
   "cell_type": "code",
   "execution_count": 27,
   "metadata": {},
   "outputs": [],
   "source": [
    "# Initialize MGXS Library with OpenMC statepoint data\n",
    "mgxs_lib.load_from_statepoint(sp)"
   ]
  },
  {
   "cell_type": "markdown",
   "metadata": {},
   "source": [
    "Voila! Our multi-group cross sections are now ready to rock 'n roll!"
   ]
  },
  {
   "cell_type": "markdown",
   "metadata": {},
   "source": [
    "## Extracting MGXS and solving the CMFD diffusion problem"
   ]
  },
  {
   "cell_type": "markdown",
   "metadata": {},
   "source": [
    "First, we extract all the MGXS in their matrix form. The matrix form can only be used with a mesh domain and allows a group-to-group and cell-to-cell interaction matrix to be set up for each MGXS type."
   ]
  },
  {
   "cell_type": "code",
   "execution_count": 28,
   "metadata": {},
   "outputs": [
    {
     "name": "stderr",
     "output_type": "stream",
     "text": [
      "/Users/samuelshaner/repos/openmc-sam/openmc/tallies.py:1852: RuntimeWarning: invalid value encountered in true_divide\n",
      "  self_rel_err = data['self']['std. dev.'] / data['self']['mean']\n",
      "/Users/samuelshaner/repos/openmc-sam/openmc/tallies.py:1853: RuntimeWarning: invalid value encountered in true_divide\n",
      "  other_rel_err = data['other']['std. dev.'] / data['other']['mean']\n",
      "/Users/samuelshaner/repos/openmc-sam/openmc/tallies.py:1854: RuntimeWarning: invalid value encountered in true_divide\n",
      "  new_tally._mean = data['self']['mean'] / data['other']['mean']\n"
     ]
    }
   ],
   "source": [
    "# Retrieve the mgxs matrices\n",
    "stream = mgxs_lib.get_mgxs(mgxs_mesh, 'cmfd-coupling').get_xs(matrix=True)\n",
    "stream_corr = mgxs_lib.get_mgxs(mgxs_mesh, 'cmfd-coupling-correction').get_xs(matrix=True)\n",
    "absorption = mgxs_lib.get_mgxs(mgxs_mesh, 'absorption').get_xs(matrix=True)\n",
    "out_scatter = mgxs_lib.get_mgxs(mgxs_mesh, 'scatter').get_xs(matrix=True)\n",
    "in_scatter = mgxs_lib.get_mgxs(mgxs_mesh, 'scatter matrix').get_xs(row_column='outin', matrix=True)\n",
    "nu_fission = mgxs_lib.get_mgxs(mgxs_mesh, 'nu-fission').get_xs(matrix=True)\n",
    "chi = mgxs_lib.get_mgxs(mgxs_mesh, 'chi').get_xs(matrix=True)\n",
    "kappa_fission = mgxs_lib.get_mgxs(mgxs_mesh, 'kappa-fission').get_xs(matrix=True)"
   ]
  },
  {
   "cell_type": "markdown",
   "metadata": {},
   "source": [
    "Now, we can combine the individual reaction matrices to get the production and destruction matrices."
   ]
  },
  {
   "cell_type": "code",
   "execution_count": 29,
   "metadata": {},
   "outputs": [],
   "source": [
    "# Form the production and destruction matrices\n",
    "prod_matrix = chi.multiply(nu_fission)\n",
    "dest_matrix = stream + stream_corr + absorption + out_scatter - in_scatter"
   ]
  },
  {
   "cell_type": "markdown",
   "metadata": {},
   "source": [
    "The production and destruction matrices are now ready to be used in solving the CMFD diffusion eigenvalue problem. In order to solve this problem, we will set up a simple power iteration eigenvalue solver."
   ]
  },
  {
   "cell_type": "code",
   "execution_count": 30,
   "metadata": {},
   "outputs": [
    {
     "name": "stdout",
     "output_type": "stream",
     "text": [
      "initial k 1.122661765127126\n",
      "eigen solve iter 000 resid 1.54076e-02 k-eff 1.023724\n",
      "eigen solve iter 001 resid 5.82787e-05 k-eff 1.023723\n",
      "eigen solve iter 002 resid 8.80449e-07 k-eff 1.023723\n",
      "eigen solve iter 003 resid 1.55232e-08 k-eff 1.023723\n"
     ]
    },
    {
     "name": "stderr",
     "output_type": "stream",
     "text": [
      "/Users/samuelshaner/anaconda/lib/python3.6/site-packages/ipykernel_launcher.py:31: RuntimeWarning: invalid value encountered in true_divide\n"
     ]
    }
   ],
   "source": [
    "# Solve the eigenvalue problem\n",
    "def compute_eigenvalue(A, M, flux, tolerance=1.e-6):\n",
    "\n",
    "    # Ensure flux is a 1D array                                                                                                         \n",
    "    flux = flux.flatten()\n",
    "\n",
    "    # Compute the initial source                                                                                                        \n",
    "    old_source = M * flux\n",
    "    norm = old_source.mean()\n",
    "    old_source  = old_source / norm\n",
    "    flux  = flux / norm\n",
    "    k_eff = 1.0\n",
    "\n",
    "    print('initial k {}'.format((M*flux).sum() / (A*flux).sum()))\n",
    "\n",
    "    for i in range(10000):\n",
    "\n",
    "        # Solve linear system                                                                                \n",
    "        flux = spsolve(A, old_source)\n",
    "\n",
    "        # Compute new source                                                                                                            \n",
    "        new_source = M * flux\n",
    "\n",
    "        # Compute and set k-eff                                                                                                         \n",
    "        k_eff = new_source.mean()\n",
    "\n",
    "        # Scale the new source by 1 / k-eff                                                                                             \n",
    "        new_source  = new_source / k_eff\n",
    "\n",
    "        # Compute the residual                                                                                                          \n",
    "        residual_array = (new_source - old_source) / new_source\n",
    "        residual_array[residual_array == -np.inf] = 0.\n",
    "        residual_array[residual_array ==  np.inf] = 0.\n",
    "        residual_array = np.nan_to_num(residual_array)\n",
    "        residual_array = np.square(residual_array)\n",
    "        residual = np.sqrt(residual_array.mean())\n",
    "\n",
    "        # Copy new source to old source                                                                                                 \n",
    "        old_source = np.copy(new_source)\n",
    "\n",
    "        print('eigen solve iter {:03d} resid {:1.5e} k-eff {:1.6f}'\\\n",
    "              .format(i, residual, k_eff))\n",
    "\n",
    "        if residual < tolerance and i > 2:\n",
    "            break\n",
    "\n",
    "    return flux, k_eff"
   ]
  },
  {
   "cell_type": "markdown",
   "metadata": {},
   "source": [
    "We can now use the eigenvalue solver to compute the flux for the CMFD diffusion problem."
   ]
  },
  {
   "cell_type": "code",
   "execution_count": null,
   "metadata": {
    "collapsed": true
   },
   "outputs": [],
   "source": [
    "flux_guess = np.ones(np.prod(mgxs_mesh.dimension)*groups.num_groups)\n",
    "flux, k_eff = compute_eigenvalue(dest_matrix, prod_matrix, flux_guess)"
   ]
  },
  {
   "cell_type": "markdown",
   "metadata": {},
   "source": [
    "In order to confirm that neutron balance was maintained between MC and CMFD eigenvalue problems, we can compare the pin powers. Due to the usage of both track-length and analog estimators in the MGXS tallies and by neglecting the contribution from some of reactions (e.g. (n,2n)), the pin powers are not expected to agree exactly; however, we expect the pin powers to agree to well below 1%."
   ]
  },
  {
   "cell_type": "code",
   "execution_count": 40,
   "metadata": {},
   "outputs": [
    {
     "name": "stderr",
     "output_type": "stream",
     "text": [
      "/Users/samuelshaner/anaconda/lib/python3.6/site-packages/ipykernel_launcher.py:13: RuntimeWarning: invalid value encountered in true_divide\n",
      "  del sys.path[0]\n"
     ]
    },
    {
     "data": {
      "text/plain": [
       "<matplotlib.colorbar.Colorbar at 0x1156f5b70>"
      ]
     },
     "execution_count": 40,
     "metadata": {},
     "output_type": "execute_result"
    },
    {
     "data": {
      "image/png": "[encoded data removed]",
      "text/plain": [
       "<matplotlib.figure.Figure at 0x1115b3128>"
      ]
     },
     "metadata": {},
     "output_type": "display_data"
    }
   ],
   "source": [
    "# Compute the CMFD pin powers\n",
    "cmfd_pin_powers = kappa_fission * flux\n",
    "\n",
    "# Get the Monte Carlo pin powers from the mesh tally \n",
    "mc_pin_powers = sp.get_tally(scores=['kappa-fission']).get_values(scores=['kappa-fission'])\n",
    "\n",
    "# Reshape the pin powers by mesh cell and energy group\n",
    "cmfd_pin_powers.shape = (17,17,2)\n",
    "mc_pin_powers.shape = (17,17,2)\n",
    "\n",
    "# Sum over our 2 energy groups\n",
    "cmfd_pin_powers = cmfd_pin_powers.sum(axis=2)\n",
    "mc_pin_powers = mc_pin_powers.sum(axis=2)\n",
    "\n",
    "# Normalize the powers\n",
    "cmfd_pin_powers /= np.mean(cmfd_pin_powers)\n",
    "mc_pin_powers   /= np.mean(mc_pin_powers)\n",
    "\n",
    "# Compute the percent difference between the CMFD and MC powers\n",
    "pp_diff = (cmfd_pin_powers - mc_pin_powers) / mc_pin_powers * 100.\n",
    "\n",
    "# Make the values of any cells with no power NaN so they are white in the plots\n",
    "cmfd_pin_powers[cmfd_pin_powers == 0] = np.nan\n",
    "mc_pin_powers  [mc_pin_powers   == 0] = np.nan\n",
    "pp_diff        [pp_diff         == np.inf] = np.nan\n",
    "\n",
    "\n",
    "# Plot the pin powers and the pin power difference\n",
    "plt.figure(figsize=(12,6))\n",
    "fig = plt.subplot(131)\n",
    "plt.imshow(cmfd_k_fission, interpolation='none', cmap='jet')\n",
    "plt.title('CMFD pin powers')\n",
    "plt.colorbar()\n",
    "\n",
    "fig2 = plt.subplot(132)\n",
    "plt.imshow(mc_k_fission, interpolation='none', cmap='jet')\n",
    "plt.title('MC pin powers')\n",
    "plt.colorbar()\n",
    "\n",
    "fig2 = plt.subplot(133)\n",
    "plt.imshow(fis_error, interpolation='none', cmap='jet')\n",
    "plt.title('pin powers errors')\n",
    "plt.colorbar()"
   ]
  }
 ],
 "metadata": {
  "anaconda-cloud": {},
  "kernelspec": {
   "display_name": "Python 3",
   "language": "python",
   "name": "python3"
  },
  "language_info": {
   "codemirror_mode": {
    "name": "ipython",
    "version": 3
   },
   "file_extension": ".py",
   "mimetype": "text/x-python",
   "name": "python",
   "nbconvert_exporter": "python",
   "pygments_lexer": "ipython3",
   "version": "3.6.1"
  }
 },
 "nbformat": 4,
 "nbformat_minor": 1
}
