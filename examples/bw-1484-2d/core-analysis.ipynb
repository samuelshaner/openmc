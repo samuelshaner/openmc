{
 "cells": [
  {
   "cell_type": "markdown",
   "metadata": {},
   "source": [
    "This IPython Notebook builds one of the BW-1484 cores in 2D, computes the multigroup cross sections using OpenMC, and runs OpenMOC with those cross sections."
   ]
  },
  {
   "cell_type": "markdown",
   "metadata": {},
   "source": [
    "## Generate Input Files"
   ]
  },
  {
   "cell_type": "code",
   "execution_count": 1,
   "metadata": {
    "collapsed": false
   },
   "outputs": [
    {
     "name": "stderr",
     "output_type": "stream",
     "text": [
      "/opt/local/Library/Frameworks/Python.framework/Versions/2.7/lib/python2.7/site-packages/ipykernel/pylab/config.py:85: DeprecationWarning: metadata {'config': True} was set from the constructor.  Metadata should be set using the .tag() method, e.g., Int().tag(key1='value1', key2='value2')\n",
      "  use `figure_formats` instead)\"\"\")\n",
      "/opt/local/Library/Frameworks/Python.framework/Versions/2.7/lib/python2.7/site-packages/ipykernel/pylab/config.py:114: DeprecationWarning: metadata {'config': True} was set from the constructor.  Metadata should be set using the .tag() method, e.g., Int().tag(key1='value1', key2='value2')\n",
      "  \"\"\")\n"
     ]
    }
   ],
   "source": [
    "import math\n",
    "import pickle\n",
    "from IPython.display import Image\n",
    "import matplotlib.pylab as pylab\n",
    "import numpy as np\n",
    "\n",
    "import openmc\n",
    "import openmc.mgxs\n",
    "from openmc.statepoint import StatePoint\n",
    "from openmc.summary import Summary\n",
    "from openmc.source import Source\n",
    "from openmc.stats import Box\n",
    "\n",
    "#import openmoc\n",
    "#import openmoc.process\n",
    "#from openmoc.compatible import get_openmoc_geometry\n",
    "#from openmoc.materialize import load_openmc_mgxs_lib\n",
    "\n",
    "from lattices import lattices, universes, materials, cells\n",
    "\n",
    "%matplotlib inline"
   ]
  },
  {
   "cell_type": "markdown",
   "metadata": {},
   "source": [
    "Choose the desired BW 1484 core (they number 1-21)"
   ]
  },
  {
   "cell_type": "code",
   "execution_count": 8,
   "metadata": {
    "collapsed": true
   },
   "outputs": [],
   "source": [
    "core = 11"
   ]
  },
  {
   "cell_type": "markdown",
   "metadata": {},
   "source": [
    "The CSG trees have already been generated, so we just need to create a Geometry and add our desired root universe."
   ]
  },
  {
   "cell_type": "code",
   "execution_count": 9,
   "metadata": {
    "collapsed": true
   },
   "outputs": [],
   "source": [
    "# Instantiate a Geometry and register the root Universe                                                                                                                                                         \n",
    "geometry = openmc.Geometry()\n",
    "geometry.root_universe = universes['Root Core {0}'.format(core)]\n",
    "\n",
    "# Instantiate a GeometryFile, register Geometry, and export to XML                                                                                                                                              \n",
    "geometry_file = openmc.GeometryFile()\n",
    "geometry_file.geometry = geometry\n",
    "geometry_file.export_to_xml()\n"
   ]
  },
  {
   "cell_type": "markdown",
   "metadata": {},
   "source": [
    "With the geometry defined, we now just need to define simulation parameters."
   ]
  },
  {
   "cell_type": "code",
   "execution_count": 10,
   "metadata": {
    "collapsed": false
   },
   "outputs": [],
   "source": [
    "# OpenMC simulation parameters\n",
    "batches = 100\n",
    "inactive = 10\n",
    "particles = 2500\n",
    "\n",
    "# Instantiate a SettingsFile, set all runtime parameters, and export to XML                                                                                                                                     \n",
    "settings_file = openmc.SettingsFile()\n",
    "settings_file.batches = batches\n",
    "settings_file.inactive = inactive\n",
    "settings_file.particles = particles\n",
    "settings_file.output = {'tallies': False}\n",
    "settings_file.source = Source(space=Box([-1.636*24, -1.636*24, -1],\n",
    "                                        [1.636*24 ,  1.636*24,  1]))\n",
    "settings_file.entropy_lower_left = [-1.636*39, -1.636*39, -1.e50]\n",
    "settings_file.entropy_upper_right = [1.636*39, 1.636*39, 1.e50]\n",
    "settings_file.entropy_dimension = [78, 78, 1]\n",
    "settings_file.export_to_xml()"
   ]
  },
  {
   "cell_type": "markdown",
   "metadata": {},
   "source": [
    "Let us also create a `PlotsFile` that we can use to verify that our fuel assembly geometry was created successfully."
   ]
  },
  {
   "cell_type": "code",
   "execution_count": 11,
   "metadata": {
    "collapsed": true
   },
   "outputs": [],
   "source": [
    "# Instantiate a Plot\n",
    "plot = openmc.Plot(plot_id=1)\n",
    "plot.filename = 'materials-xy'\n",
    "plot.origin = [0, 0, 1]\n",
    "plot.width = [1.636*78, 1.636*78]\n",
    "plot.pixels = [500, 500]\n",
    "plot.color = 'mat'\n",
    "\n",
    "# Instantiate a PlotsFile, add Plot, and export to XML                                                                                                                                                          \n",
    "plot_file = openmc.PlotsFile()\n",
    "plot_file.add_plot(plot)\n",
    "plot_file.export_to_xml()"
   ]
  },
  {
   "cell_type": "markdown",
   "metadata": {},
   "source": [
    "With the plots.xml file, we can now generate and view the plot. OpenMC outputs plots in .ppm format, which can be converted into a compressed format like .png with the convert utility."
   ]
  },
  {
   "cell_type": "code",
   "execution_count": 12,
   "metadata": {
    "collapsed": false
   },
   "outputs": [
    {
     "data": {
      "text/plain": [
       "0"
      ]
     },
     "execution_count": 12,
     "metadata": {},
     "output_type": "execute_result"
    }
   ],
   "source": [
    "# Run openmc in plotting mode\n",
    "executor = openmc.Executor()\n",
    "executor.plot_geometry(output=False)"
   ]
  },
  {
   "cell_type": "code",
   "execution_count": 13,
   "metadata": {
    "collapsed": false
   },
   "outputs": [
    {
     "data": {
      "image/png": "[encoded data removed]",
      "text/plain": [
       "<IPython.core.display.Image object>"
      ]
     },
     "execution_count": 13,
     "metadata": {},
     "output_type": "execute_result"
    }
   ],
   "source": [
    "# Convert OpenMC's funky ppm to png\n",
    "!convert materials-xy.ppm materials-xy.png\n",
    "\n",
    "# Display the materials plot inline\n",
    "Image(filename='materials-xy.png')"
   ]
  },
  {
   "cell_type": "markdown",
   "metadata": {},
   "source": [
    "As we can see from the plot, we have a nice small core of one of the BW-1484 benchmarks!"
   ]
  },
  {
   "cell_type": "markdown",
   "metadata": {},
   "source": [
    "## Create an MGXS Library"
   ]
  },
  {
   "cell_type": "markdown",
   "metadata": {},
   "source": [
    "Now we are ready to generate multi-group cross sections! First, let's define a 2-group structure using the built-in `EnergyGroups` class."
   ]
  },
  {
   "cell_type": "code",
   "execution_count": 7,
   "metadata": {
    "collapsed": false
   },
   "outputs": [],
   "source": [
    "# Instantiate a 2-group EnergyGroups object\n",
    "groups = openmc.mgxs.EnergyGroups()\n",
    "groups.group_edges = np.array([0., 0.625e-6, 20.])"
   ]
  },
  {
   "cell_type": "markdown",
   "metadata": {},
   "source": [
    "Next, we will instantiate an `openmc.mgxs.Library` for the energy groups with our the fuel assembly geometry."
   ]
  },
  {
   "cell_type": "code",
   "execution_count": 8,
   "metadata": {
    "collapsed": false
   },
   "outputs": [],
   "source": [
    "# Initialize an 2-group MGXS Library for OpenMOC\n",
    "mgxs_lib = openmc.mgxs.Library(geometry)\n",
    "mgxs_lib.energy_groups = groups"
   ]
  },
  {
   "cell_type": "markdown",
   "metadata": {},
   "source": [
    "Now, we must specify to the `Library` which types of cross sections to compute. In particular, the following are the multi-group cross section `MGXS` subclasses that are mapped to string codes accepted by the `Library` class:\n",
    "\n",
    "* `TotalXS` (`\"total\"`)\n",
    "* `TransportXS` (`\"transport\"`)\n",
    "* `AbsorptionXS` (`\"absorption\"`)\n",
    "* `CaptureXS` (`\"capture\"`)\n",
    "* `FissionXS` (`\"fission\"`)\n",
    "* `NuFissionXS` (`\"nu-fission\"`)\n",
    "* `ScatterXS` (`\"scatter\"`)\n",
    "* `NuScatterXS` (`\"nu-scatter\"`)\n",
    "* `ScatterMatrixXS` (`\"scatter matrix\"`)\n",
    "* `NuScatterMatrixXS` (`\"nu-scatter matrix\"`)\n",
    "* `Chi` (`\"chi\"`)\n",
    "\n",
    "In this case, let's create the multi-group cross sections needed to run an OpenMOC simulation to verify the accuracy of our cross sections. In particular, we will define `\"transport\"`, `\"nu-fission\"`, `\"nu-scatter matrix\"` and `\"chi\"` cross sections for our `Library`.\n",
    "\n",
    "**Note**: A variety of different approximate transport-corrected total multi-group cross sections (and corresponding scattering matrices) can be found in the literature. At the present time, the `openmc.mgxs` module only supports the `\"P0\"` transport correction. This correction can be turned on and off through the boolean `Library.correction` property which may take values of `\"P0\"` (default) or `None`."
   ]
  },
  {
   "cell_type": "code",
   "execution_count": 9,
   "metadata": {
    "collapsed": true
   },
   "outputs": [],
   "source": [
    "# Specify multi-group cross section types to compute\n",
    "mgxs_lib.mgxs_types = ['transport', 'nu-fission', 'nu-scatter matrix', 'chi']"
   ]
  },
  {
   "cell_type": "markdown",
   "metadata": {},
   "source": [
    "Now we must specify the type of domain over which we would like the `Library` to compute multi-group cross sections. The domain type corresponds to the type of tally filter to be used in the tallies created to compute multi-group cross sections. At the present time, the `Library` supports `\"material,\"` `\"cell,\"` and `\"universe\"` domain types. We will use a `\"cell\"` domain type here to compute cross sections in each of the cells in the fuel assembly geometry.\n",
    "\n",
    "**Note:** By default, the `Library` class will instantiate `MGXS` objects for each and every domain (material, cell or universe) in the geometry of interest. However, one may specify a subset of these domains to the `Library.domains` property. In our case, we wish to compute multi-group cross sections in each and every cell since they will be needed in our downstream OpenMOC calculation on the identical combinatorial geometry mesh."
   ]
  },
  {
   "cell_type": "code",
   "execution_count": 10,
   "metadata": {
    "collapsed": true
   },
   "outputs": [],
   "source": [
    "# Specify a \"cell\" domain type for the cross section tally filters\n",
    "mgxs_lib.domain_type = \"cell\"\n",
    "\n",
    "# Specify the cell domains over which to compute multi-group cross sections\n",
    "mgxs_lib.domains = geometry.get_all_material_cells()"
   ]
  },
  {
   "cell_type": "markdown",
   "metadata": {},
   "source": [
    "We can easily instruct the `Library` to compute multi-group cross sections on a nuclide-by-nuclide basis with the boolean `Library.by_nuclide` property. By default, `by_nuclide` is set to `False`, but we will set it to `True` here."
   ]
  },
  {
   "cell_type": "code",
   "execution_count": 11,
   "metadata": {
    "collapsed": true
   },
   "outputs": [],
   "source": [
    "# Compute cross sections on a nuclide-by-nuclide basis\n",
    "mgxs_lib.by_nuclide = True"
   ]
  },
  {
   "cell_type": "markdown",
   "metadata": {},
   "source": [
    "Lastly, we use the `Library` to construct the tallies needed to compute all of the requested multi-group cross sections in each domain and nuclide."
   ]
  },
  {
   "cell_type": "code",
   "execution_count": 12,
   "metadata": {
    "collapsed": true
   },
   "outputs": [],
   "source": [
    "# Construct all tallies needed for the multi-group cross section library\n",
    "mgxs_lib.build_library()"
   ]
  },
  {
   "cell_type": "markdown",
   "metadata": {},
   "source": [
    "The tallies can now be export to a \"tallies.xml\" input file for OpenMC. \n",
    "\n",
    "**NOTE**: At this point the `Library` has constructed nearly 100 distinct `Tally` objects. The overhead to tally in OpenMC scales as $O(N)$ for $N$ tallies, which can become a bottleneck for large tally datasets. To compensate for this, the Python API's `Tally`, `Filter` and `TalliesFile` classes allow for the smart *merging* of tallies when possible. The `Library` class supports this runtime optimization with the use of the optional `merge` paramter (`False` by default) for the `Library.add_to_tallies_file(...)` method, as shown below."
   ]
  },
  {
   "cell_type": "code",
   "execution_count": 13,
   "metadata": {
    "collapsed": true
   },
   "outputs": [],
   "source": [
    "# Create a \"tallies.xml\" file for the MGXS Library\n",
    "tallies_file = openmc.TalliesFile()\n",
    "mgxs_lib.add_to_tallies_file(tallies_file, merge=True)"
   ]
  },
  {
   "cell_type": "markdown",
   "metadata": {},
   "source": [
    "In addition, we instantiate a fission rate mesh tally to compare with OpenMOC."
   ]
  },
  {
   "cell_type": "code",
   "execution_count": 14,
   "metadata": {
    "collapsed": false
   },
   "outputs": [],
   "source": [
    "# Instantiate a tally Mesh\n",
    "mesh = openmc.Mesh(mesh_id=1)\n",
    "mesh.type = 'regular'\n",
    "mesh.dimension = [17, 17]\n",
    "mesh.lower_left = [-10.71, -10.71]\n",
    "mesh.width = [1.26, 1.26]\n",
    "\n",
    "# Instantiate tally Filter\n",
    "mesh_filter = openmc.Filter()\n",
    "mesh_filter.mesh = mesh\n",
    "\n",
    "# Instantiate the Tally\n",
    "tally = openmc.Tally(name='mesh tally')\n",
    "tally.add_filter(mesh_filter)\n",
    "tally.add_score('fission')\n",
    "tally.add_score('nu-fission')\n",
    "\n",
    "# Add mesh and Tally to TalliesFile\n",
    "tallies_file.add_mesh(mesh)\n",
    "tallies_file.add_tally(tally)"
   ]
  },
  {
   "cell_type": "code",
   "execution_count": 15,
   "metadata": {
    "collapsed": true
   },
   "outputs": [],
   "source": [
    "# Export all tallies to a \"tallies.xml\" file\n",
    "tallies_file.export_to_xml()"
   ]
  },
  {
   "cell_type": "code",
   "execution_count": 16,
   "metadata": {
    "collapsed": false
   },
   "outputs": [
    {
     "name": "stdout",
     "output_type": "stream",
     "text": [
      "\n",
      "       .d88888b.                             888b     d888  .d8888b.\n",
      "      d88P\" \"Y88b                            8888b   d8888 d88P  Y88b\n",
      "      888     888                            88888b.d88888 888    888\n",
      "      888     888 88888b.   .d88b.  88888b.  888Y88888P888 888       \n",
      "      888     888 888 \"88b d8P  Y8b 888 \"88b 888 Y888P 888 888       \n",
      "      888     888 888  888 88888888 888  888 888  Y8P  888 888    888\n",
      "      Y88b. .d88P 888 d88P Y8b.     888  888 888   \"   888 Y88b  d88P\n",
      "       \"Y88888P\"  88888P\"   \"Y8888  888  888 888       888  \"Y8888P\"\n",
      "__________________888______________________________________________________\n",
      "                  888\n",
      "                  888\n",
      "\n",
      "      Copyright:      2011-2015 Massachusetts Institute of Technology\n",
      "      License:        http://mit-crpg.github.io/openmc/license.html\n",
      "      Version:        0.7.1\n",
      "      Git SHA1:       52cb733f35ca8629d73b5ee719491aeec662dc69\n",
      "      Date/Time:      2016-06-16 10:34:13\n",
      "      MPI Processes:  1\n",
      "\n",
      " ===========================================================================\n",
      " ========================>     INITIALIZATION     <=========================\n",
      " ===========================================================================\n",
      "\n",
      " Reading settings XML file...\n",
      " Reading cross sections XML file...\n",
      " Reading geometry XML file...\n",
      " Reading materials XML file...\n",
      " Reading tallies XML file...\n",
      " Building neighboring cells lists for each surface...\n",
      " Loading ACE cross section table: 92235.71c\n",
      " Loading ACE cross section table: 92238.71c\n",
      " Loading ACE cross section table: 8016.71c\n",
      " Loading ACE cross section table: 8017.71c\n",
      " Loading ACE cross section table: 12024.71c\n",
      " Loading ACE cross section table: 12025.71c\n",
      " Loading ACE cross section table: 12026.71c\n",
      " Loading ACE cross section table: 13027.71c\n",
      " Loading ACE cross section table: 14028.71c\n",
      " Loading ACE cross section table: 14029.71c\n",
      " Loading ACE cross section table: 14030.71c\n",
      " Loading ACE cross section table: 24050.71c\n",
      " Loading ACE cross section table: 24052.71c\n",
      " Loading ACE cross section table: 24053.71c\n",
      " Loading ACE cross section table: 24054.71c\n",
      " Loading ACE cross section table: 25055.71c\n",
      " Loading ACE cross section table: 26054.71c\n",
      " Loading ACE cross section table: 26056.71c\n",
      " Loading ACE cross section table: 26057.71c\n",
      " Loading ACE cross section table: 26058.71c\n",
      " Loading ACE cross section table: 29063.71c\n",
      " Loading ACE cross section table: 29065.71c\n",
      " Loading ACE cross section table: 5010.71c\n",
      " Loading ACE cross section table: 5011.71c\n",
      " Loading ACE cross section table: 6000.71c\n",
      " Loading ACE cross section table: 16032.71c\n",
      " Loading ACE cross section table: 16033.71c\n",
      " Loading ACE cross section table: 16034.71c\n",
      " Loading ACE cross section table: 16036.71c\n",
      " Loading ACE cross section table: 28058.71c\n",
      " Loading ACE cross section table: 28060.71c\n",
      " Loading ACE cross section table: 28061.71c\n",
      " Loading ACE cross section table: 28062.71c\n",
      " Loading ACE cross section table: 28064.71c\n",
      " Loading ACE cross section table: 42092.71c\n",
      " Loading ACE cross section table: 42094.71c\n",
      " Loading ACE cross section table: 42095.71c\n",
      " Loading ACE cross section table: 42096.71c\n",
      " Loading ACE cross section table: 42097.71c\n",
      " Loading ACE cross section table: 42098.71c\n",
      " Loading ACE cross section table: 42100.71c\n",
      " Loading ACE cross section table: 2004.71c\n",
      " Loading ACE cross section table: 1001.71c\n",
      " Loading ACE cross section table: 1002.71c\n",
      " Maximum neutron transport energy: 20.0000 MeV for 92235.71c\n",
      " Initializing source particles...\n",
      "\n",
      " ===========================================================================\n",
      " ====================>     K EIGENVALUE SIMULATION     <====================\n",
      " ===========================================================================\n",
      "\n",
      "  Bat./Gen.      k       Entropy         Average k         \n",
      "  =========   ========   ========   ====================   \n",
      "        1/1    0.85914    9.52570                       \n",
      "        2/1    0.88192    9.59202                       \n",
      "        3/1    0.89999    9.60600                       \n",
      "        4/1    0.86035    9.53473                       \n",
      "        5/1    0.87687    9.57352                       \n",
      "        6/1    0.83261    9.56915                       \n",
      "        7/1    0.89876    9.54811                       \n",
      "        8/1    0.89846    9.57984                       \n",
      "        9/1    0.83812    9.59930                       \n",
      "       10/1    0.87460    9.56769                       \n",
      "       11/1    0.87387    9.57112                       \n",
      "       12/1    0.85119    9.59801    0.86253 +/- 0.01134\n",
      "       13/1    0.84501    9.50213    0.85669 +/- 0.00877\n",
      "       14/1    0.87096    9.58095    0.86026 +/- 0.00716\n",
      "       15/1    0.87908    9.59130    0.86402 +/- 0.00670\n",
      "       16/1    0.91194    9.55326    0.87201 +/- 0.00968\n",
      "       17/1    0.83403    9.54599    0.86658 +/- 0.00982\n",
      "       18/1    0.89849    9.59291    0.87057 +/- 0.00939\n",
      "       19/1    0.86858    9.56913    0.87035 +/- 0.00828\n",
      "       20/1    0.90440    9.52364    0.87376 +/- 0.00815\n",
      "       21/1    0.89911    9.57954    0.87606 +/- 0.00773\n",
      "       22/1    0.82908    9.51837    0.87215 +/- 0.00807\n",
      "       23/1    0.80044    9.54945    0.86663 +/- 0.00925\n",
      "       24/1    0.85129    9.47254    0.86553 +/- 0.00863\n",
      "       25/1    0.83575    9.51456    0.86355 +/- 0.00828\n",
      "       26/1    0.88075    9.55405    0.86462 +/- 0.00782\n",
      "       27/1    0.87025    9.53336    0.86495 +/- 0.00735\n",
      "       28/1    0.84626    9.55909    0.86392 +/- 0.00701\n",
      "       29/1    0.84611    9.55106    0.86298 +/- 0.00669\n",
      "       30/1    0.84722    9.54328    0.86219 +/- 0.00640\n",
      "       31/1    0.87204    9.55792    0.86266 +/- 0.00610\n",
      "       32/1    0.83130    9.56277    0.86123 +/- 0.00599\n",
      "       33/1    0.86242    9.54824    0.86129 +/- 0.00573\n",
      "       34/1    0.84646    9.54836    0.86067 +/- 0.00552\n",
      "       35/1    0.90271    9.51028    0.86235 +/- 0.00555\n",
      "       36/1    0.84789    9.52366    0.86179 +/- 0.00536\n",
      "       37/1    0.86909    9.56743    0.86206 +/- 0.00517\n",
      "       38/1    0.87364    9.51797    0.86248 +/- 0.00500\n",
      "       39/1    0.86172    9.51721    0.86245 +/- 0.00482\n",
      "       40/1    0.90378    9.53012    0.86383 +/- 0.00486\n",
      "       41/1    0.86736    9.53776    0.86394 +/- 0.00470\n",
      "       42/1    0.92012    9.57646    0.86570 +/- 0.00488\n",
      "       43/1    0.88250    9.52556    0.86621 +/- 0.00475\n",
      "       44/1    0.89482    9.59474    0.86705 +/- 0.00469\n",
      "       45/1    0.86943    9.54407    0.86712 +/- 0.00455\n",
      "       46/1    0.83386    9.56558    0.86619 +/- 0.00452\n",
      "       47/1    0.88324    9.52083    0.86665 +/- 0.00442\n",
      "       48/1    0.89269    9.61153    0.86734 +/- 0.00436\n",
      "       49/1    0.84504    9.53516    0.86677 +/- 0.00428\n",
      "       50/1    0.88170    9.52787    0.86714 +/- 0.00419\n",
      "       51/1    0.87326    9.55532    0.86729 +/- 0.00409\n",
      "       52/1    0.94263    9.58495    0.86908 +/- 0.00438\n",
      "       53/1    0.93149    9.57638    0.87053 +/- 0.00451\n",
      "       54/1    0.87211    9.54469    0.87057 +/- 0.00441\n",
      "       55/1    0.85093    9.53994    0.87013 +/- 0.00433\n",
      "       56/1    0.92133    9.57391    0.87125 +/- 0.00438\n",
      "       57/1    0.88108    9.57832    0.87146 +/- 0.00429\n",
      "       58/1    0.85775    9.52996    0.87117 +/- 0.00421\n",
      "       59/1    0.91959    9.56678    0.87216 +/- 0.00424\n",
      "       60/1    0.90611    9.52260    0.87284 +/- 0.00421\n",
      "       61/1    0.91250    9.54553    0.87362 +/- 0.00420\n",
      "       62/1    0.85525    9.52930    0.87326 +/- 0.00413\n",
      "       63/1    0.91552    9.51920    0.87406 +/- 0.00413\n",
      "       64/1    0.89907    9.57865    0.87452 +/- 0.00408\n",
      "       65/1    0.90394    9.47474    0.87506 +/- 0.00404\n",
      "       66/1    0.88526    9.57869    0.87524 +/- 0.00397\n",
      "       67/1    0.87669    9.47426    0.87527 +/- 0.00390\n",
      "       68/1    0.90162    9.55492    0.87572 +/- 0.00386\n",
      "       69/1    0.88215    9.49821    0.87583 +/- 0.00380\n",
      "       70/1    0.86795    9.55166    0.87570 +/- 0.00374\n",
      "       71/1    0.88439    9.54998    0.87584 +/- 0.00368\n",
      "       72/1    0.87363    9.49871    0.87580 +/- 0.00362\n",
      "       73/1    0.85040    9.47580    0.87540 +/- 0.00358\n",
      "       74/1    0.84967    9.53237    0.87500 +/- 0.00355\n",
      "       75/1    0.89449    9.52567    0.87530 +/- 0.00351\n",
      "       76/1    0.85466    9.59694    0.87499 +/- 0.00347\n",
      "       77/1    0.89474    9.52594    0.87528 +/- 0.00343\n",
      "       78/1    0.89065    9.58071    0.87551 +/- 0.00338\n",
      "       79/1    0.85632    9.58143    0.87523 +/- 0.00335\n",
      "       80/1    0.84148    9.53961    0.87475 +/- 0.00333\n",
      "       81/1    0.92113    9.60006    0.87540 +/- 0.00335\n",
      "       82/1    0.85255    9.56629    0.87508 +/- 0.00332\n",
      "       83/1    0.85882    9.51758    0.87486 +/- 0.00328\n",
      "       84/1    0.93065    9.55442    0.87561 +/- 0.00332\n",
      "       85/1    0.86260    9.48956    0.87544 +/- 0.00328\n",
      "       86/1    0.86555    9.55403    0.87531 +/- 0.00324\n",
      "       87/1    0.88953    9.48883    0.87549 +/- 0.00320\n",
      "       88/1    0.86585    9.57266    0.87537 +/- 0.00317\n",
      "       89/1    0.88431    9.54256    0.87548 +/- 0.00313\n",
      "       90/1    0.88542    9.49627    0.87561 +/- 0.00309\n",
      "       91/1    0.87347    9.49633    0.87558 +/- 0.00305\n",
      "       92/1    0.85093    9.49275    0.87528 +/- 0.00303\n",
      "       93/1    0.91897    9.59157    0.87581 +/- 0.00304\n",
      "       94/1    0.89721    9.56074    0.87606 +/- 0.00301\n",
      "       95/1    0.84878    9.58609    0.87574 +/- 0.00299\n",
      "       96/1    0.87040    9.61340    0.87568 +/- 0.00296\n",
      "       97/1    0.88011    9.53788    0.87573 +/- 0.00293\n",
      "       98/1    0.87409    9.52973    0.87571 +/- 0.00289\n",
      "       99/1    0.88451    9.59566    0.87581 +/- 0.00286\n",
      "      100/1    0.89375    9.55816    0.87601 +/- 0.00284\n",
      " Creating state point statepoint.100.h5...\n",
      "\n",
      " ===========================================================================\n",
      " ======================>     SIMULATION FINISHED     <======================\n",
      " ===========================================================================\n",
      "\n",
      "\n",
      " =======================>     TIMING STATISTICS     <=======================\n",
      "\n",
      " Total time for initialization     =  1.6180E+00 seconds\n",
      "   Reading cross sections          =  9.2300E-01 seconds\n",
      " Total time in simulation          =  1.2423E+02 seconds\n",
      "   Time in transport only          =  1.2416E+02 seconds\n",
      "   Time in inactive batches        =  6.7170E+00 seconds\n",
      "   Time in active batches          =  1.1751E+02 seconds\n",
      "   Time synchronizing fission bank =  1.2000E-02 seconds\n",
      "     Sampling source sites         =  7.0000E-03 seconds\n",
      "     SEND/RECV source sites        =  5.0000E-03 seconds\n",
      "   Time accumulating tallies       =  3.0000E-03 seconds\n",
      " Total time for finalization       =  0.0000E+00 seconds\n",
      " Total time elapsed                =  1.2586E+02 seconds\n",
      " Calculation Rate (inactive)       =  3721.90 neutrons/second\n",
      " Calculation Rate (active)         =  1914.68 neutrons/second\n",
      "\n",
      " ============================>     RESULTS     <============================\n",
      "\n",
      " k-effective (Collision)     =  0.87352 +/-  0.00203\n",
      " k-effective (Track-length)  =  0.87601 +/-  0.00284\n",
      " k-effective (Absorption)    =  0.87494 +/-  0.00195\n",
      " Combined k-effective        =  0.87436 +/-  0.00173\n",
      " Leakage Fraction            =  0.00291 +/-  0.00009\n",
      "\n"
     ]
    },
    {
     "data": {
      "text/plain": [
       "0"
      ]
     },
     "execution_count": 16,
     "metadata": {},
     "output_type": "execute_result"
    }
   ],
   "source": [
    "# Run OpenMC\n",
    "executor.run_simulation()"
   ]
  },
  {
   "cell_type": "markdown",
   "metadata": {},
   "source": [
    "## Tally Data Processing"
   ]
  },
  {
   "cell_type": "markdown",
   "metadata": {},
   "source": [
    "Our simulation ran successfully and created statepoint and summary output files. We begin our analysis by instantiating a `StatePoint` object. "
   ]
  },
  {
   "cell_type": "code",
   "execution_count": 17,
   "metadata": {
    "collapsed": false
   },
   "outputs": [],
   "source": [
    "# Load the last statepoint file\n",
    "sp = openmc.StatePoint('statepoint.100.h5')"
   ]
  },
  {
   "cell_type": "markdown",
   "metadata": {},
   "source": [
    "In addition to the statepoint file, our simulation also created a summary file which encapsulates information about the materials and geometry. This is necessary for the `openmc.mgxs` module to properly process the tally data. We first create a `Summary` object and link it with the statepoint."
   ]
  },
  {
   "cell_type": "code",
   "execution_count": 18,
   "metadata": {
    "collapsed": false
   },
   "outputs": [],
   "source": [
    "su = openmc.Summary('summary.h5')\n",
    "sp.link_with_summary(su)"
   ]
  },
  {
   "cell_type": "markdown",
   "metadata": {},
   "source": [
    "The statepoint is now ready to be analyzed by the `Library`. We simply have to load the tallies from the statepoint into the `Library` and our `MGXS` objects will compute the cross sections for us under-the-hood."
   ]
  },
  {
   "cell_type": "code",
   "execution_count": 19,
   "metadata": {
    "collapsed": false
   },
   "outputs": [
    {
     "ename": "LookupError",
     "evalue": "Unable to get Tally",
     "output_type": "error",
     "traceback": [
      "\u001b[0;31m---------------------------------------------------------------------------\u001b[0m",
      "\u001b[0;31mLookupError\u001b[0m                               Traceback (most recent call last)",
      "\u001b[0;32m<ipython-input-19-76d7abb36a81>\u001b[0m in \u001b[0;36m<module>\u001b[0;34m()\u001b[0m\n\u001b[1;32m      1\u001b[0m \u001b[0;31m# Initialize MGXS Library with OpenMC statepoint data\u001b[0m\u001b[0;34m\u001b[0m\u001b[0;34m\u001b[0m\u001b[0m\n\u001b[0;32m----> 2\u001b[0;31m \u001b[0mmgxs_lib\u001b[0m\u001b[0;34m.\u001b[0m\u001b[0mload_from_statepoint\u001b[0m\u001b[0;34m(\u001b[0m\u001b[0msp\u001b[0m\u001b[0;34m)\u001b[0m\u001b[0;34m\u001b[0m\u001b[0m\n\u001b[0m",
      "\u001b[0;32m/Users/sam/.local/lib/python2.7/site-packages/openmc-0.7.1-py2.7.egg/openmc/mgxs/library.pyc\u001b[0m in \u001b[0;36mload_from_statepoint\u001b[0;34m(self, statepoint)\u001b[0m\n\u001b[1;32m    412\u001b[0m             \u001b[0;32mfor\u001b[0m \u001b[0mmgxs_type\u001b[0m \u001b[0;32min\u001b[0m \u001b[0mself\u001b[0m\u001b[0;34m.\u001b[0m\u001b[0mmgxs_types\u001b[0m\u001b[0;34m:\u001b[0m\u001b[0;34m\u001b[0m\u001b[0m\n\u001b[1;32m    413\u001b[0m                 \u001b[0mmgxs\u001b[0m \u001b[0;34m=\u001b[0m \u001b[0mself\u001b[0m\u001b[0;34m.\u001b[0m\u001b[0mget_mgxs\u001b[0m\u001b[0;34m(\u001b[0m\u001b[0mdomain\u001b[0m\u001b[0;34m,\u001b[0m \u001b[0mmgxs_type\u001b[0m\u001b[0;34m)\u001b[0m\u001b[0;34m\u001b[0m\u001b[0m\n\u001b[0;32m--> 414\u001b[0;31m                 \u001b[0mmgxs\u001b[0m\u001b[0;34m.\u001b[0m\u001b[0mload_from_statepoint\u001b[0m\u001b[0;34m(\u001b[0m\u001b[0mstatepoint\u001b[0m\u001b[0;34m)\u001b[0m\u001b[0;34m\u001b[0m\u001b[0m\n\u001b[0m\u001b[1;32m    415\u001b[0m                 \u001b[0mmgxs\u001b[0m\u001b[0;34m.\u001b[0m\u001b[0msparse\u001b[0m \u001b[0;34m=\u001b[0m \u001b[0mself\u001b[0m\u001b[0;34m.\u001b[0m\u001b[0msparse\u001b[0m\u001b[0;34m\u001b[0m\u001b[0m\n\u001b[1;32m    416\u001b[0m \u001b[0;34m\u001b[0m\u001b[0m\n",
      "\u001b[0;32m/Users/sam/.local/lib/python2.7/site-packages/openmc-0.7.1-py2.7.egg/openmc/mgxs/mgxs.pyc\u001b[0m in \u001b[0;36mload_from_statepoint\u001b[0;34m(self, statepoint)\u001b[0m\n\u001b[1;32m    626\u001b[0m             sp_tally = statepoint.get_tally(tally.scores, tally.filters,\n\u001b[1;32m    627\u001b[0m                                             \u001b[0mtally\u001b[0m\u001b[0;34m.\u001b[0m\u001b[0mnuclides\u001b[0m\u001b[0;34m,\u001b[0m\u001b[0;34m\u001b[0m\u001b[0m\n\u001b[0;32m--> 628\u001b[0;31m                                             estimator=tally.estimator)\n\u001b[0m\u001b[1;32m    629\u001b[0m             sp_tally = sp_tally.get_slice(tally.scores, filters,\n\u001b[1;32m    630\u001b[0m                                           filter_bins, tally.nuclides)\n",
      "\u001b[0;32m/Users/sam/.local/lib/python2.7/site-packages/openmc-0.7.1-py2.7.egg/openmc/statepoint.pyc\u001b[0m in \u001b[0;36mget_tally\u001b[0;34m(self, scores, filters, nuclides, name, id, estimator)\u001b[0m\n\u001b[1;32m    577\u001b[0m         \u001b[0;31m# If we did not find the Tally, return an error message\u001b[0m\u001b[0;34m\u001b[0m\u001b[0;34m\u001b[0m\u001b[0m\n\u001b[1;32m    578\u001b[0m         \u001b[0;32mif\u001b[0m \u001b[0mtally\u001b[0m \u001b[0;32mis\u001b[0m \u001b[0mNone\u001b[0m\u001b[0;34m:\u001b[0m\u001b[0;34m\u001b[0m\u001b[0m\n\u001b[0;32m--> 579\u001b[0;31m             \u001b[0;32mraise\u001b[0m \u001b[0mLookupError\u001b[0m\u001b[0;34m(\u001b[0m\u001b[0;34m'Unable to get Tally'\u001b[0m\u001b[0;34m)\u001b[0m\u001b[0;34m\u001b[0m\u001b[0m\n\u001b[0m\u001b[1;32m    580\u001b[0m \u001b[0;34m\u001b[0m\u001b[0m\n\u001b[1;32m    581\u001b[0m         \u001b[0;32mreturn\u001b[0m \u001b[0mtally\u001b[0m\u001b[0;34m\u001b[0m\u001b[0m\n",
      "\u001b[0;31mLookupError\u001b[0m: Unable to get Tally"
     ]
    }
   ],
   "source": [
    "# Initialize MGXS Library with OpenMC statepoint data\n",
    "mgxs_lib.load_from_statepoint(sp)"
   ]
  },
  {
   "cell_type": "markdown",
   "metadata": {},
   "source": [
    "Voila! Our multi-group cross sections are now ready to rock 'n roll!"
   ]
  },
  {
   "cell_type": "markdown",
   "metadata": {},
   "source": [
    "## Extracting and Storing MGXS Data"
   ]
  },
  {
   "cell_type": "markdown",
   "metadata": {},
   "source": [
    "The `Library` supports a rich API to automate a variety of tasks, including multi-group cross section data retrieval and storage. We will highlight a few of these features here. First, the `Library.get_mgxs(...)` method allows one to extract an `MGXS` object from the `Library` for a particular domain and cross section type. The following cell illustrates how one may extract the `NuFissionXS` object for the fuel cell.\n",
    "\n",
    "**Note:** The `MGXS.get_mgxs(...)` method will accept either the domain *or* the integer domain ID of interest."
   ]
  },
  {
   "cell_type": "code",
   "execution_count": 30,
   "metadata": {
    "collapsed": false
   },
   "outputs": [],
   "source": [
    "# Retrieve the NuFissionXS object for the fuel cell from the library\n",
    "fuel_mgxs = mgxs_lib.get_mgxs(fuel_cell, 'nu-fission')"
   ]
  },
  {
   "cell_type": "markdown",
   "metadata": {},
   "source": [
    "The `NuFissionXS` object supports all of the methods described previously the `openmc.mgxs` tutorials, such as [Pandas](http://pandas.pydata.org/) `DataFrames`:"
   ]
  },
  {
   "cell_type": "code",
   "execution_count": 31,
   "metadata": {
    "collapsed": false
   },
   "outputs": [
    {
     "name": "stderr",
     "output_type": "stream",
     "text": [
      "/home/romano/openmc/openmc/tallies.py:1642: RuntimeWarning: invalid value encountered in true_divide\n",
      "  self_rel_err = data['self']['std. dev.'] / data['self']['mean']\n"
     ]
    },
    {
     "data": {
      "text/html": [
       "<div style=\"max-height:1000px;max-width:1500px;overflow:auto;\">\n",
       "<table border=\"1\" class=\"dataframe\">\n",
       "  <thead>\n",
       "    <tr style=\"text-align: right;\">\n",
       "      <th></th>\n",
       "      <th>cell</th>\n",
       "      <th>group in</th>\n",
       "      <th>nuclide</th>\n",
       "      <th>mean</th>\n",
       "      <th>std. dev.</th>\n",
       "    </tr>\n",
       "  </thead>\n",
       "  <tbody>\n",
       "    <tr>\n",
       "      <th>3</th>\n",
       "      <td>10000</td>\n",
       "      <td>1</td>\n",
       "      <td>U-235</td>\n",
       "      <td>0.008064</td>\n",
       "      <td>4.062984e-05</td>\n",
       "    </tr>\n",
       "    <tr>\n",
       "      <th>4</th>\n",
       "      <td>10000</td>\n",
       "      <td>1</td>\n",
       "      <td>U-238</td>\n",
       "      <td>0.007336</td>\n",
       "      <td>4.459335e-05</td>\n",
       "    </tr>\n",
       "    <tr>\n",
       "      <th>5</th>\n",
       "      <td>10000</td>\n",
       "      <td>1</td>\n",
       "      <td>O-16</td>\n",
       "      <td>0.000000</td>\n",
       "      <td>0.000000e+00</td>\n",
       "    </tr>\n",
       "    <tr>\n",
       "      <th>0</th>\n",
       "      <td>10000</td>\n",
       "      <td>2</td>\n",
       "      <td>U-235</td>\n",
       "      <td>0.361327</td>\n",
       "      <td>1.902492e-03</td>\n",
       "    </tr>\n",
       "    <tr>\n",
       "      <th>1</th>\n",
       "      <td>10000</td>\n",
       "      <td>2</td>\n",
       "      <td>U-238</td>\n",
       "      <td>0.000001</td>\n",
       "      <td>3.536787e-09</td>\n",
       "    </tr>\n",
       "    <tr>\n",
       "      <th>2</th>\n",
       "      <td>10000</td>\n",
       "      <td>2</td>\n",
       "      <td>O-16</td>\n",
       "      <td>0.000000</td>\n",
       "      <td>0.000000e+00</td>\n",
       "    </tr>\n",
       "  </tbody>\n",
       "</table>\n",
       "</div>"
      ],
      "text/plain": [
       "    cell  group in nuclide      mean     std. dev.\n",
       "3  10000         1   U-235  0.008064  4.062984e-05\n",
       "4  10000         1   U-238  0.007336  4.459335e-05\n",
       "5  10000         1    O-16  0.000000  0.000000e+00\n",
       "0  10000         2   U-235  0.361327  1.902492e-03\n",
       "1  10000         2   U-238  0.000001  3.536787e-09\n",
       "2  10000         2    O-16  0.000000  0.000000e+00"
      ]
     },
     "execution_count": 31,
     "metadata": {},
     "output_type": "execute_result"
    }
   ],
   "source": [
    "df = fuel_mgxs.get_pandas_dataframe()\n",
    "df"
   ]
  },
  {
   "cell_type": "markdown",
   "metadata": {},
   "source": [
    "Similarly, we can use the `MGXS.print_xs(...)` method to view a string representation of the multi-group cross section data."
   ]
  },
  {
   "cell_type": "code",
   "execution_count": 32,
   "metadata": {
    "collapsed": false
   },
   "outputs": [
    {
     "name": "stdout",
     "output_type": "stream",
     "text": [
      "Multi-Group XS\n",
      "\tReaction Type  =\tnu-fission\n",
      "\tDomain Type    =\tcell\n",
      "\tDomain ID      =\t10000\n",
      "\tNuclide        =\tU-235\n",
      "\tCross Sections [cm^-1]:\n",
      "            Group 1 [6.25e-07   - 20.0      MeV]:\t8.06e-03 +/- 5.04e-01%\n",
      "            Group 2 [0.0        - 6.25e-07  MeV]:\t3.61e-01 +/- 5.27e-01%\n",
      "\n",
      "\tNuclide        =\tU-238\n",
      "\tCross Sections [cm^-1]:\n",
      "            Group 1 [6.25e-07   - 20.0      MeV]:\t7.34e-03 +/- 6.08e-01%\n",
      "            Group 2 [0.0        - 6.25e-07  MeV]:\t6.74e-07 +/- 5.25e-01%\n",
      "\n",
      "\tNuclide        =\tO-16\n",
      "\tCross Sections [cm^-1]:\n",
      "            Group 1 [6.25e-07   - 20.0      MeV]:\t0.00e+00 +/- nan%\n",
      "            Group 2 [0.0        - 6.25e-07  MeV]:\t0.00e+00 +/- nan%\n",
      "\n",
      "\n",
      "\n"
     ]
    }
   ],
   "source": [
    "fuel_mgxs.print_xs()"
   ]
  },
  {
   "cell_type": "markdown",
   "metadata": {},
   "source": [
    "One can export the entire `Library` to HDF5 with the `Library.build_hdf5_store(...)` method as follows:"
   ]
  },
  {
   "cell_type": "code",
   "execution_count": 33,
   "metadata": {
    "collapsed": true
   },
   "outputs": [],
   "source": [
    "# Store the cross section data in an \"mgxs/mgxs.h5\" HDF5 binary file\n",
    "mgxs_lib.build_hdf5_store(filename='mgxs.h5', directory='mgxs')"
   ]
  },
  {
   "cell_type": "markdown",
   "metadata": {},
   "source": [
    "The HDF5 store will contain the numerical multi-group cross section data indexed by domain, nuclide and cross section type. Some data workflows may be optimized by storing and retrieving binary representations of the `MGXS` objects in the `Library`. This feature is supported through the `Library.dump_to_file(...)` and `Library.load_from_file(...)` routines which use Python's [`pickle`](https://docs.python.org/2/library/pickle.html) module. This is illustrated as follows."
   ]
  },
  {
   "cell_type": "code",
   "execution_count": 34,
   "metadata": {
    "collapsed": true
   },
   "outputs": [],
   "source": [
    "# Store a Library and its MGXS objects in a pickled binary file \"mgxs/mgxs.pkl\"\n",
    "mgxs_lib.dump_to_file(filename='mgxs', directory='mgxs')"
   ]
  },
  {
   "cell_type": "code",
   "execution_count": 35,
   "metadata": {
    "collapsed": true
   },
   "outputs": [],
   "source": [
    "# Instantiate a new MGXS Library from the pickled binary file \"mgxs/mgxs.pkl\"\n",
    "mgxs_lib = openmc.mgxs.Library.load_from_file(filename='mgxs', directory='mgxs')"
   ]
  },
  {
   "cell_type": "markdown",
   "metadata": {},
   "source": [
    "The `Library` class may be used to leverage the energy condensation features supported by the `MGXS` class. In particular, one can use the `Library.get_condensed_library(...)` with a coarse group structure which is a subset of the original \"fine\" group structure as shown below."
   ]
  },
  {
   "cell_type": "code",
   "execution_count": 36,
   "metadata": {
    "collapsed": true
   },
   "outputs": [],
   "source": [
    "# Create a 1-group structure\n",
    "coarse_groups = openmc.mgxs.EnergyGroups(group_edges=[0., 20.])\n",
    "\n",
    "# Create a new MGXS Library on the coarse 1-group structure\n",
    "coarse_mgxs_lib = mgxs_lib.get_condensed_library(coarse_groups)"
   ]
  },
  {
   "cell_type": "code",
   "execution_count": 37,
   "metadata": {
    "collapsed": false
   },
   "outputs": [
    {
     "data": {
      "text/html": [
       "<div style=\"max-height:1000px;max-width:1500px;overflow:auto;\">\n",
       "<table border=\"1\" class=\"dataframe\">\n",
       "  <thead>\n",
       "    <tr style=\"text-align: right;\">\n",
       "      <th></th>\n",
       "      <th>cell</th>\n",
       "      <th>group in</th>\n",
       "      <th>nuclide</th>\n",
       "      <th>mean</th>\n",
       "      <th>std. dev.</th>\n",
       "    </tr>\n",
       "  </thead>\n",
       "  <tbody>\n",
       "    <tr>\n",
       "      <th>0</th>\n",
       "      <td>10000</td>\n",
       "      <td>1</td>\n",
       "      <td>U-235</td>\n",
       "      <td>0.074383</td>\n",
       "      <td>0.000280</td>\n",
       "    </tr>\n",
       "    <tr>\n",
       "      <th>1</th>\n",
       "      <td>10000</td>\n",
       "      <td>1</td>\n",
       "      <td>U-238</td>\n",
       "      <td>0.005959</td>\n",
       "      <td>0.000036</td>\n",
       "    </tr>\n",
       "    <tr>\n",
       "      <th>2</th>\n",
       "      <td>10000</td>\n",
       "      <td>1</td>\n",
       "      <td>O-16</td>\n",
       "      <td>0.000000</td>\n",
       "      <td>0.000000</td>\n",
       "    </tr>\n",
       "  </tbody>\n",
       "</table>\n",
       "</div>"
      ],
      "text/plain": [
       "    cell  group in nuclide      mean  std. dev.\n",
       "0  10000         1   U-235  0.074383   0.000280\n",
       "1  10000         1   U-238  0.005959   0.000036\n",
       "2  10000         1    O-16  0.000000   0.000000"
      ]
     },
     "execution_count": 37,
     "metadata": {},
     "output_type": "execute_result"
    }
   ],
   "source": [
    "# Retrieve the NuFissionXS object for the fuel cell from the 1-group library\n",
    "coarse_fuel_mgxs = coarse_mgxs_lib.get_mgxs(fuel_cell, 'nu-fission')\n",
    "\n",
    "# Show the Pandas DataFrame for the 1-group MGXS\n",
    "coarse_fuel_mgxs.get_pandas_dataframe()"
   ]
  },
  {
   "cell_type": "markdown",
   "metadata": {},
   "source": [
    "## Verification with OpenMOC"
   ]
  },
  {
   "cell_type": "markdown",
   "metadata": {},
   "source": [
    "Of course it is always a good idea to verify that one's cross sections are accurate. We can easily do so here with the deterministic transport code [OpenMOC](https://mit-crpg.github.io/OpenMOC/). We will extract an OpenCG geometry from the summary file and convert it into an equivalent OpenMOC geometry."
   ]
  },
  {
   "cell_type": "code",
   "execution_count": 38,
   "metadata": {
    "collapsed": false
   },
   "outputs": [],
   "source": [
    "# Create an OpenMOC Geometry from the OpenCG Geometry\n",
    "openmoc_geometry = get_openmoc_geometry(mgxs_lib.opencg_geometry)"
   ]
  },
  {
   "cell_type": "markdown",
   "metadata": {},
   "source": [
    "Now, we can inject the multi-group cross sections into the equivalent fuel assembly OpenMOC geometry. The `openmoc.materialize` module supports the loading of `Library` objects from OpenMC as illustrated below."
   ]
  },
  {
   "cell_type": "code",
   "execution_count": 39,
   "metadata": {
    "collapsed": false
   },
   "outputs": [],
   "source": [
    "# Load the library into the OpenMOC geometry\n",
    "materials = load_openmc_mgxs_lib(mgxs_lib, openmoc_geometry)"
   ]
  },
  {
   "cell_type": "markdown",
   "metadata": {},
   "source": [
    "We are now ready to run OpenMOC to verify our cross-sections from OpenMC."
   ]
  },
  {
   "cell_type": "code",
   "execution_count": 40,
   "metadata": {
    "collapsed": false,
    "scrolled": true
   },
   "outputs": [
    {
     "name": "stdout",
     "output_type": "stream",
     "text": [
      "[  NORMAL ]  Ray tracing for track segmentation...\n",
      "[  NORMAL ]  Dumping tracks to file...\n",
      "[  NORMAL ]  Computing the eigenvalue...\n",
      "[  NORMAL ]  Iteration 0:\tk_eff = 0.854316\tres = 0.000E+00\n",
      "[  NORMAL ]  Iteration 1:\tk_eff = 0.801593\tres = 1.522E-01\n",
      "[  NORMAL ]  Iteration 2:\tk_eff = 0.761131\tres = 6.380E-02\n",
      "[  NORMAL ]  Iteration 3:\tk_eff = 0.731467\tres = 5.066E-02\n",
      "[  NORMAL ]  Iteration 4:\tk_eff = 0.709897\tres = 3.910E-02\n",
      "[  NORMAL ]  Iteration 5:\tk_eff = 0.695111\tres = 2.954E-02\n",
      "[  NORMAL ]  Iteration 6:\tk_eff = 0.685967\tres = 2.085E-02\n",
      "[  NORMAL ]  Iteration 7:\tk_eff = 0.681511\tres = 1.317E-02\n",
      "[  NORMAL ]  Iteration 8:\tk_eff = 0.680926\tres = 6.520E-03\n",
      "[  NORMAL ]  Iteration 9:\tk_eff = 0.683509\tres = 1.046E-03\n",
      "[  NORMAL ]  Iteration 10:\tk_eff = 0.688659\tres = 3.848E-03\n",
      "[  NORMAL ]  Iteration 11:\tk_eff = 0.695861\tres = 7.565E-03\n",
      "[  NORMAL ]  Iteration 12:\tk_eff = 0.704674\tres = 1.048E-02\n",
      "[  NORMAL ]  Iteration 13:\tk_eff = 0.714726\tres = 1.269E-02\n",
      "[  NORMAL ]  Iteration 14:\tk_eff = 0.725701\tres = 1.428E-02\n",
      "[  NORMAL ]  Iteration 15:\tk_eff = 0.737329\tres = 1.537E-02\n",
      "[  NORMAL ]  Iteration 16:\tk_eff = 0.749388\tres = 1.604E-02\n",
      "[  NORMAL ]  Iteration 17:\tk_eff = 0.761691\tres = 1.637E-02\n",
      "[  NORMAL ]  Iteration 18:\tk_eff = 0.774081\tres = 1.643E-02\n",
      "[  NORMAL ]  Iteration 19:\tk_eff = 0.786431\tres = 1.628E-02\n",
      "[  NORMAL ]  Iteration 20:\tk_eff = 0.798638\tres = 1.597E-02\n",
      "[  NORMAL ]  Iteration 21:\tk_eff = 0.810618\tres = 1.553E-02\n",
      "[  NORMAL ]  Iteration 22:\tk_eff = 0.822303\tres = 1.501E-02\n",
      "[  NORMAL ]  Iteration 23:\tk_eff = 0.833643\tres = 1.443E-02\n",
      "[  NORMAL ]  Iteration 24:\tk_eff = 0.844598\tres = 1.380E-02\n",
      "[  NORMAL ]  Iteration 25:\tk_eff = 0.855140\tres = 1.315E-02\n",
      "[  NORMAL ]  Iteration 26:\tk_eff = 0.865249\tres = 1.249E-02\n",
      "[  NORMAL ]  Iteration 27:\tk_eff = 0.874914\tres = 1.183E-02\n",
      "[  NORMAL ]  Iteration 28:\tk_eff = 0.884128\tres = 1.118E-02\n",
      "[  NORMAL ]  Iteration 29:\tk_eff = 0.892891\tres = 1.054E-02\n",
      "[  NORMAL ]  Iteration 30:\tk_eff = 0.901206\tres = 9.920E-03\n",
      "[  NORMAL ]  Iteration 31:\tk_eff = 0.909080\tres = 9.320E-03\n",
      "[  NORMAL ]  Iteration 32:\tk_eff = 0.916522\tres = 8.745E-03\n",
      "[  NORMAL ]  Iteration 33:\tk_eff = 0.923545\tres = 8.194E-03\n",
      "[  NORMAL ]  Iteration 34:\tk_eff = 0.930162\tres = 7.669E-03\n",
      "[  NORMAL ]  Iteration 35:\tk_eff = 0.936387\tres = 7.171E-03\n",
      "[  NORMAL ]  Iteration 36:\tk_eff = 0.942236\tres = 6.698E-03\n",
      "[  NORMAL ]  Iteration 37:\tk_eff = 0.947725\tres = 6.252E-03\n",
      "[  NORMAL ]  Iteration 38:\tk_eff = 0.952869\tres = 5.830E-03\n",
      "[  NORMAL ]  Iteration 39:\tk_eff = 0.957686\tres = 5.433E-03\n",
      "[  NORMAL ]  Iteration 40:\tk_eff = 0.962192\tres = 5.060E-03\n",
      "[  NORMAL ]  Iteration 41:\tk_eff = 0.966404\tres = 4.710E-03\n",
      "[  NORMAL ]  Iteration 42:\tk_eff = 0.970336\tres = 4.381E-03\n",
      "[  NORMAL ]  Iteration 43:\tk_eff = 0.974005\tres = 4.073E-03\n",
      "[  NORMAL ]  Iteration 44:\tk_eff = 0.977426\tres = 3.785E-03\n",
      "[  NORMAL ]  Iteration 45:\tk_eff = 0.980613\tres = 3.515E-03\n",
      "[  NORMAL ]  Iteration 46:\tk_eff = 0.983580\tres = 3.264E-03\n",
      "[  NORMAL ]  Iteration 47:\tk_eff = 0.986340\tres = 3.029E-03\n",
      "[  NORMAL ]  Iteration 48:\tk_eff = 0.988907\tres = 2.809E-03\n",
      "[  NORMAL ]  Iteration 49:\tk_eff = 0.991293\tres = 2.605E-03\n",
      "[  NORMAL ]  Iteration 50:\tk_eff = 0.993509\tres = 2.415E-03\n",
      "[  NORMAL ]  Iteration 51:\tk_eff = 0.995566\tres = 2.238E-03\n",
      "[  NORMAL ]  Iteration 52:\tk_eff = 0.997475\tres = 2.073E-03\n",
      "[  NORMAL ]  Iteration 53:\tk_eff = 0.999246\tres = 1.920E-03\n",
      "[  NORMAL ]  Iteration 54:\tk_eff = 1.000887\tres = 1.777E-03\n",
      "[  NORMAL ]  Iteration 55:\tk_eff = 1.002408\tres = 1.645E-03\n",
      "[  NORMAL ]  Iteration 56:\tk_eff = 1.003818\tres = 1.522E-03\n",
      "[  NORMAL ]  Iteration 57:\tk_eff = 1.005123\tres = 1.408E-03\n",
      "[  NORMAL ]  Iteration 58:\tk_eff = 1.006331\tres = 1.302E-03\n",
      "[  NORMAL ]  Iteration 59:\tk_eff = 1.007449\tres = 1.203E-03\n",
      "[  NORMAL ]  Iteration 60:\tk_eff = 1.008483\tres = 1.112E-03\n",
      "[  NORMAL ]  Iteration 61:\tk_eff = 1.009439\tres = 1.028E-03\n",
      "[  NORMAL ]  Iteration 62:\tk_eff = 1.010324\tres = 9.496E-04\n",
      "[  NORMAL ]  Iteration 63:\tk_eff = 1.011141\tres = 8.771E-04\n",
      "[  NORMAL ]  Iteration 64:\tk_eff = 1.011896\tres = 8.100E-04\n",
      "[  NORMAL ]  Iteration 65:\tk_eff = 1.012594\tres = 7.479E-04\n",
      "[  NORMAL ]  Iteration 66:\tk_eff = 1.013238\tres = 6.903E-04\n",
      "[  NORMAL ]  Iteration 67:\tk_eff = 1.013833\tres = 6.372E-04\n",
      "[  NORMAL ]  Iteration 68:\tk_eff = 1.014382\tres = 5.880E-04\n",
      "[  NORMAL ]  Iteration 69:\tk_eff = 1.014889\tres = 5.425E-04\n",
      "[  NORMAL ]  Iteration 70:\tk_eff = 1.015357\tres = 5.004E-04\n",
      "[  NORMAL ]  Iteration 71:\tk_eff = 1.015788\tres = 4.615E-04\n",
      "[  NORMAL ]  Iteration 72:\tk_eff = 1.016186\tres = 4.256E-04\n",
      "[  NORMAL ]  Iteration 73:\tk_eff = 1.016553\tres = 3.924E-04\n",
      "[  NORMAL ]  Iteration 74:\tk_eff = 1.016892\tres = 3.617E-04\n",
      "[  NORMAL ]  Iteration 75:\tk_eff = 1.017204\tres = 3.334E-04\n",
      "[  NORMAL ]  Iteration 76:\tk_eff = 1.017491\tres = 3.073E-04\n",
      "[  NORMAL ]  Iteration 77:\tk_eff = 1.017756\tres = 2.831E-04\n",
      "[  NORMAL ]  Iteration 78:\tk_eff = 1.018000\tres = 2.608E-04\n",
      "[  NORMAL ]  Iteration 79:\tk_eff = 1.018225\tres = 2.403E-04\n",
      "[  NORMAL ]  Iteration 80:\tk_eff = 1.018432\tres = 2.213E-04\n",
      "[  NORMAL ]  Iteration 81:\tk_eff = 1.018623\tres = 2.038E-04\n",
      "[  NORMAL ]  Iteration 82:\tk_eff = 1.018799\tres = 1.877E-04\n",
      "[  NORMAL ]  Iteration 83:\tk_eff = 1.018961\tres = 1.729E-04\n",
      "[  NORMAL ]  Iteration 84:\tk_eff = 1.019110\tres = 1.591E-04\n",
      "[  NORMAL ]  Iteration 85:\tk_eff = 1.019247\tres = 1.465E-04\n",
      "[  NORMAL ]  Iteration 86:\tk_eff = 1.019373\tres = 1.349E-04\n",
      "[  NORMAL ]  Iteration 87:\tk_eff = 1.019489\tres = 1.241E-04\n",
      "[  NORMAL ]  Iteration 88:\tk_eff = 1.019596\tres = 1.142E-04\n",
      "[  NORMAL ]  Iteration 89:\tk_eff = 1.019695\tres = 1.051E-04\n",
      "[  NORMAL ]  Iteration 90:\tk_eff = 1.019785\tres = 9.673E-05\n",
      "[  NORMAL ]  Iteration 91:\tk_eff = 1.019869\tres = 8.899E-05\n",
      "[  NORMAL ]  Iteration 92:\tk_eff = 1.019945\tres = 8.187E-05\n",
      "[  NORMAL ]  Iteration 93:\tk_eff = 1.020016\tres = 7.532E-05\n",
      "[  NORMAL ]  Iteration 94:\tk_eff = 1.020081\tres = 6.925E-05\n",
      "[  NORMAL ]  Iteration 95:\tk_eff = 1.020141\tres = 6.372E-05\n",
      "[  NORMAL ]  Iteration 96:\tk_eff = 1.020195\tres = 5.861E-05\n",
      "[  NORMAL ]  Iteration 97:\tk_eff = 1.020246\tres = 5.388E-05\n",
      "[  NORMAL ]  Iteration 98:\tk_eff = 1.020292\tres = 4.956E-05\n",
      "[  NORMAL ]  Iteration 99:\tk_eff = 1.020335\tres = 4.555E-05\n",
      "[  NORMAL ]  Iteration 100:\tk_eff = 1.020374\tres = 4.187E-05\n",
      "[  NORMAL ]  Iteration 101:\tk_eff = 1.020410\tres = 3.850E-05\n",
      "[  NORMAL ]  Iteration 102:\tk_eff = 1.020443\tres = 3.539E-05\n",
      "[  NORMAL ]  Iteration 103:\tk_eff = 1.020473\tres = 3.254E-05\n",
      "[  NORMAL ]  Iteration 104:\tk_eff = 1.020501\tres = 2.991E-05\n",
      "[  NORMAL ]  Iteration 105:\tk_eff = 1.020527\tres = 2.747E-05\n",
      "[  NORMAL ]  Iteration 106:\tk_eff = 1.020551\tres = 2.526E-05\n",
      "[  NORMAL ]  Iteration 107:\tk_eff = 1.020573\tres = 2.321E-05\n",
      "[  NORMAL ]  Iteration 108:\tk_eff = 1.020592\tres = 2.134E-05\n",
      "[  NORMAL ]  Iteration 109:\tk_eff = 1.020611\tres = 1.961E-05\n",
      "[  NORMAL ]  Iteration 110:\tk_eff = 1.020628\tres = 1.802E-05\n",
      "[  NORMAL ]  Iteration 111:\tk_eff = 1.020643\tres = 1.653E-05\n",
      "[  NORMAL ]  Iteration 112:\tk_eff = 1.020657\tres = 1.519E-05\n",
      "[  NORMAL ]  Iteration 113:\tk_eff = 1.020671\tres = 1.398E-05\n",
      "[  NORMAL ]  Iteration 114:\tk_eff = 1.020683\tres = 1.283E-05\n",
      "[  NORMAL ]  Iteration 115:\tk_eff = 1.020694\tres = 1.178E-05\n",
      "[  NORMAL ]  Iteration 116:\tk_eff = 1.020704\tres = 1.082E-05\n"
     ]
    }
   ],
   "source": [
    "# Generate tracks for OpenMOC\n",
    "track_generator = openmoc.TrackGenerator(openmoc_geometry, num_azim=32, spacing=0.1)\n",
    "track_generator.generateTracks()\n",
    "\n",
    "# Run OpenMOC\n",
    "solver = openmoc.CPUSolver(track_generator)\n",
    "solver.computeEigenvalue()"
   ]
  },
  {
   "cell_type": "markdown",
   "metadata": {},
   "source": [
    "We report the eigenvalues computed by OpenMC and OpenMOC here together to summarize our results."
   ]
  },
  {
   "cell_type": "code",
   "execution_count": 41,
   "metadata": {
    "collapsed": false
   },
   "outputs": [
    {
     "name": "stdout",
     "output_type": "stream",
     "text": [
      "openmc keff = 1.017105\n",
      "openmoc keff = 1.020704\n",
      "bias [pcm]: 359.8\n"
     ]
    }
   ],
   "source": [
    "# Print report of keff and bias with OpenMC\n",
    "openmoc_keff = solver.getKeff()\n",
    "openmc_keff = sp.k_combined[0]\n",
    "bias = (openmoc_keff - openmc_keff) * 1e5\n",
    "\n",
    "print('openmc keff = {0:1.6f}'.format(openmc_keff))\n",
    "print('openmoc keff = {0:1.6f}'.format(openmoc_keff))\n",
    "print('bias [pcm]: {0:1.1f}'.format(bias))"
   ]
  },
  {
   "cell_type": "markdown",
   "metadata": {},
   "source": [
    "There is a non-trivial bias between the eigenvalues computed by OpenMC and OpenMOC. One can show that these biases do not converge to <100 pcm with more particle histories. For heterogeneous geometries, additional measures must be taken to address the following three sources of bias:\n",
    "\n",
    "* Appropriate transport-corrected cross sections\n",
    "* Spatial discretization of OpenMOC's mesh\n",
    "* Constant-in-angle multi-group cross sections"
   ]
  },
  {
   "cell_type": "markdown",
   "metadata": {},
   "source": [
    "## Flux and Pin Power Visualizations"
   ]
  },
  {
   "cell_type": "markdown",
   "metadata": {},
   "source": [
    "We will conclude this tutorial by illustrating how to visualize the fission rates computed by OpenMOC and OpenMC. First, we extract volume-integrated fission rates from OpenMC's mesh fission rate tally for each pin cell in the fuel assembly."
   ]
  },
  {
   "cell_type": "code",
   "execution_count": 42,
   "metadata": {
    "collapsed": false
   },
   "outputs": [],
   "source": [
    "# Get the OpenMC fission rate mesh tally data\n",
    "mesh_tally = sp.get_tally(name='mesh tally')\n",
    "openmc_fission_rates = mesh_tally.get_values(scores=['nu-fission'])\n",
    "\n",
    "# Reshape array to 2D for plotting\n",
    "openmc_fission_rates.shape = (17,17)\n",
    "\n",
    "# Normalize to the average pin power\n",
    "openmc_fission_rates /= np.mean(openmc_fission_rates)"
   ]
  },
  {
   "cell_type": "markdown",
   "metadata": {},
   "source": [
    "Next, we extract OpenMOC's volume-averaged fission rates into a 2D 17x17 NumPy array."
   ]
  },
  {
   "cell_type": "code",
   "execution_count": 43,
   "metadata": {
    "collapsed": false
   },
   "outputs": [],
   "source": [
    "# Export OpenMOC's fission rates for each pin cell instance in the fuel assembly\n",
    "openmoc.process.compute_fission_rates(solver)\n",
    "\n",
    "# Open the pickle file with the fission rates\n",
    "fission_rates = pickle.load(open('fission-rates/fission-rates.pkl', 'rb' ))\n",
    "\n",
    "# Allocate array for fission rates in each fuel pin\n",
    "openmoc_fission_rates = np.zeros((17, 17))\n",
    "\n",
    "# Extract fission rates for each fuel pin\n",
    "for key, value in fission_rates.items():\n",
    "    lat_x = int(key.split(':')[1].split()[3][1:-1])\n",
    "    lat_y = int(key.split(':')[1].split()[4][:-1])    \n",
    "    openmoc_fission_rates[lat_x, lat_y] = value\n",
    "\n",
    "# Normalize to the average pin fission rate\n",
    "openmoc_fission_rates /= np.mean(openmoc_fission_rates)"
   ]
  },
  {
   "cell_type": "markdown",
   "metadata": {},
   "source": [
    "Now we can easily use Matplotlib to visualize the fission rates from OpenMC and OpenMOC side-by-side."
   ]
  },
  {
   "cell_type": "code",
   "execution_count": 44,
   "metadata": {
    "collapsed": false
   },
   "outputs": [
    {
     "data": {
      "text/plain": [
       "<matplotlib.text.Text at 0x7fa72eda50d0>"
      ]
     },
     "execution_count": 44,
     "metadata": {},
     "output_type": "execute_result"
    },
    {
     "data": {
      "image/png": "[encoded data removed]",
      "text/plain": [
       "<matplotlib.figure.Figure at 0x7fa72efe62d0>"
      ]
     },
     "metadata": {},
     "output_type": "display_data"
    }
   ],
   "source": [
    "# Plot OpenMC's fission rates in the left subplot\n",
    "fig = pylab.subplot(121)\n",
    "pylab.imshow(openmc_fission_rates, interpolation='none', cmap='jet')\n",
    "pylab.title('OpenMC Fission Rates')\n",
    "\n",
    "# Plot OpenMOC's fission rates in the right subplot\n",
    "fig2 = pylab.subplot(122)\n",
    "pylab.imshow(openmoc_fission_rates, interpolation='none', cmap='jet')\n",
    "pylab.title('OpenMOC Fission Rates')"
   ]
  }
 ],
 "metadata": {
  "kernelspec": {
   "display_name": "Python 2",
   "language": "python",
   "name": "python2"
  },
  "language_info": {
   "codemirror_mode": {
    "name": "ipython",
    "version": 2
   },
   "file_extension": ".py",
   "mimetype": "text/x-python",
   "name": "python",
   "nbconvert_exporter": "python",
   "pygments_lexer": "ipython2",
   "version": "2.7.11"
  }
 },
 "nbformat": 4,
 "nbformat_minor": 0
}
